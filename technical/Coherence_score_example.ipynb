{
 "cells": [
  {
   "cell_type": "markdown",
   "metadata": {},
   "source": [
    "<h1> <center>Пример подсчета когерентности тематической модели средствами библиотеки BigARTM </center></h1>"
   ]
  },
  {
   "cell_type": "markdown",
   "metadata": {},
   "source": [
    "### Что такое когерентность тематической модели"
   ]
  },
  {
   "cell_type": "markdown",
   "metadata": {},
   "source": [
    "Одним из самых главных требований, выдвигаемых к тематической модели, является требование *человеческой интерпретируемости*. Как было показано в ряде статей, *человеческая интерпретируемость* хорошо скоррелированна с такой мерой качества тематической модели, как когерентность. Приведем формулу для расчета когерентности одной скрытой темы $t$ тематической модели:\n",
    "$$ PMI_t = \\frac{2}{k(k-1)}\\sum_{i=1}^{k-1}\\sum_{j=i}^kvalue(w_i,w_j)$$\n",
    "\n",
    "Здесь $value(w_i,w_j)$ - это оценка, основанная на совстречаемости слов, посчитанная по некоторому корпусу текстов.\n",
    "Например:\n",
    "- positive PMI: $$pPMI=\\left[\\log\\frac{n(u,v)n}{n(u)n(v)}\\right]_{+},$$\n",
    "- сглаженный логарифм условной вероятности:\n",
    "$$score=\\log\\frac{n(u,v)+1}{n(v)}$$\n",
    "\n",
    "Здесь $n(u,v)$ - число окон определенной длины (обычно длины 10), в которых одновременно встречаются слова $v$ и $u$, $n(u)$ и $n(v)$ - это число окон, в которых вообще встречаются слова $u$ и $v$ соответственно. $n$ - это общее число окон, которое было просмотрено."
   ]
  },
  {
   "cell_type": "markdown",
   "metadata": {},
   "source": [
    "### Необходимые данные для проведения эксперимента  "
   ]
  },
  {
   "cell_type": "markdown",
   "metadata": {},
   "source": [
    "- Коллекция текстовых документов, в любом удобном для Вас формате\n",
    "- [UCI](http://bigartm.readthedocs.io/en/stable/formats.html) словарь коллекции, по которой обсчитывалась статистика совстречаемости. Фактически это файл, в котором в каждой новой строке записан елемент словаря (слово)\n",
    "- Словарь с данными о совстречаемости слов. Строчка в словаре совстречаемости слов выглядит так:\n",
    "$$word_{id}\\text{ }word_{id}\\text{ }value$$\n",
    "Здесь $word_{id}$ - это ID слова в UCI словаре, по которой считалась статистика, если считать, что индексация словаря ведется с 0, $value$ - оценка совстрецаемости слов, например $pPMI.$  \n",
    "**Обратите внимание, что обычно предполагается, что индексация словаря в UCI формате ведется с 1. Но в BigARTM на данный момент реализованые функции предполагают именно такой формат (индексация с 0).**"
   ]
  },
  {
   "cell_type": "markdown",
   "metadata": {},
   "source": [
    "Демонстрацию будем производить на основе коллекции [Постнауки](www.postnauka.ru).  \n",
    "Наша коллекция уже приведена к формату [UCI](http://bigartm.readthedocs.io/en/stable/formats.html). Разумеется, Ваша коллекция может быть в любом из удобных для Вас формате.  \n",
    "Статистику совстречаемости слов мы считали также по коллекции Постнауки."
   ]
  },
  {
   "cell_type": "markdown",
   "metadata": {},
   "source": [
    "## Пример обучения модели"
   ]
  },
  {
   "cell_type": "markdown",
   "metadata": {},
   "source": [
    "Импортируем библиотеки"
   ]
  },
  {
   "cell_type": "code",
   "execution_count": 4,
   "metadata": {
    "collapsed": false
   },
   "outputs": [
    {
     "name": "stdout",
     "output_type": "stream",
     "text": [
      "ARTM version: 0.8.1\n"
     ]
    }
   ],
   "source": [
    "%matplotlib inline\n",
    "import glob\n",
    "import os\n",
    "import sys\n",
    "import codecs\n",
    "import json\n",
    "import artm\n",
    "import numpy as np\n",
    "\n",
    "print u\"ARTM version: {}\".format(artm.version())\n",
    "\n",
    "import matplotlib.pyplot as plt"
   ]
  },
  {
   "cell_type": "markdown",
   "metadata": {
    "collapsed": true
   },
   "source": [
    "Конвертируем коллекцию Постнауки в UCI формате во внутренний формат BigARTM (батчи)"
   ]
  },
  {
   "cell_type": "code",
   "execution_count": 5,
   "metadata": {
    "collapsed": false
   },
   "outputs": [],
   "source": [
    "data_path_UCI = 'postnauka/UCI'\n",
    "data_path_batches = 'postnauka/batches/'\n",
    "if len(glob.glob(data_path_batches + \"/*.batch\")) < 1:\n",
    "    batch_vectorizer = artm.BatchVectorizer(collection_name='pn', data_format='bow_uci', \\\n",
    "                data_path = data_path_UCI, batch_size = 500, target_folder=data_path_batches)\n",
    "else:\n",
    "    batch_vectorizer = artm.BatchVectorizer(data_path=data_path_batches, data_format='batches')"
   ]
  },
  {
   "cell_type": "markdown",
   "metadata": {},
   "source": [
    "Для того, чтобы передать информацию о совстречаемости слов, нужно сконвертировать имеющиеся у нас данные в удобный для BigARTM формат - словарь Dictionary."
   ]
  },
  {
   "cell_type": "code",
   "execution_count": 6,
   "metadata": {
    "collapsed": true
   },
   "outputs": [],
   "source": [
    "cooc_dict = artm.Dictionary()"
   ]
  },
  {
   "cell_type": "markdown",
   "metadata": {},
   "source": [
    "Воспользуемся функцией `gather(...)`. ЕЕ параметры:\n",
    "- `data_path` - путь до обрабатываемой коллекции в формате батчей\n",
    "- `cooc_file_path` - путь до файла с информацией о совстречаемости слов (считая, что индексация идет с 0)\n",
    "- `vocab_file_path` - путь до UCI словаря коллекции, по которой считалась статистика совстречаемости\n",
    "- `symmetric_cooc_values` - булева переменная, `True`, если в файле совстречаемости не содержится информация о порядке слов в паре"
   ]
  },
  {
   "cell_type": "code",
   "execution_count": 7,
   "metadata": {
    "collapsed": false
   },
   "outputs": [],
   "source": [
    "cooc_dict.gather(\n",
    "    data_path='postnauka/batches/',\n",
    "    cooc_file_path = \"postnauka/ppmi_postnauka.txt\",\n",
    "    vocab_file_path='postnauka/UCI/vocab.pn.txt',\n",
    "    symmetric_cooc_values=True)"
   ]
  },
  {
   "cell_type": "markdown",
   "metadata": {},
   "source": [
    "### Строим модель"
   ]
  },
  {
   "cell_type": "markdown",
   "metadata": {},
   "source": [
    "Возьмем для упрощения только одну модальность ngramm, имеющуюся в коллекции"
   ]
  },
  {
   "cell_type": "code",
   "execution_count": 8,
   "metadata": {
    "collapsed": false
   },
   "outputs": [],
   "source": [
    "topicNum = 250\n",
    "class_ids={u'ngramm':1.0}"
   ]
  },
  {
   "cell_type": "markdown",
   "metadata": {},
   "source": [
    "Регуляризаторы"
   ]
  },
  {
   "cell_type": "code",
   "execution_count": 9,
   "metadata": {
    "collapsed": false
   },
   "outputs": [],
   "source": [
    "regularizers_list = []\n",
    "regularizers_list += [artm.SmoothSparsePhiRegularizer(name='SPPhiNgrammReg', class_ids=[u'ngramm'], tau=0.001)]\n",
    "regularizers_list += [artm.SmoothSparseThetaRegularizer(name='SmoothThetaReg', tau=0.001)]"
   ]
  },
  {
   "cell_type": "markdown",
   "metadata": {},
   "source": [
    "Создадим метрики, которые хотим снимать с модели"
   ]
  },
  {
   "cell_type": "code",
   "execution_count": 10,
   "metadata": {
    "collapsed": false
   },
   "outputs": [],
   "source": [
    "scores_list = []\n",
    "scores_list += [artm.SparsityPhiScore(name='SparsityScoreNgramm', class_id='ngramm')]\n",
    "scores_list += [artm.SparsityThetaScore(name='SparsityScoreTheta')]\n",
    "scores_list += [artm.PerplexityScore(name='PerplexityScore')]"
   ]
  },
  {
   "cell_type": "markdown",
   "metadata": {},
   "source": [
    "Когерентность считается на основе списка топ слов, длины k. Создадим соответствующие метрики для $k=10$ и $k=50$"
   ]
  },
  {
   "cell_type": "code",
   "execution_count": 11,
   "metadata": {
    "collapsed": true
   },
   "outputs": [],
   "source": [
    "scores_list += [artm.TopTokensScore(name='TopTokensScoreNgramm10',\n",
    "                                    class_id='ngramm', \n",
    "                                    num_tokens=10, \n",
    "                                    dictionary=cooc_dict)]\n",
    "scores_list += [artm.TopTokensScore(name='TopTokensScoreNgramm50',\n",
    "                                    class_id='ngramm', \n",
    "                                    num_tokens=50, \n",
    "                                    dictionary=cooc_dict)]"
   ]
  },
  {
   "cell_type": "markdown",
   "metadata": {},
   "source": [
    "Инициализируем модель"
   ]
  },
  {
   "cell_type": "code",
   "execution_count": 12,
   "metadata": {
    "collapsed": true
   },
   "outputs": [],
   "source": [
    "model = artm.ARTM(num_topics=topicNum,\n",
    "                  dictionary=batch_vectorizer.dictionary,\n",
    "                  class_ids=class_ids,\n",
    "                  regularizers=regularizers_list,\n",
    "                  scores=scores_list,\n",
    "                  num_document_passes=5)"
   ]
  },
  {
   "cell_type": "markdown",
   "metadata": {},
   "source": [
    "Теперь запустим 40 проходов коллекции оффлайновым алгоритмом"
   ]
  },
  {
   "cell_type": "code",
   "execution_count": 13,
   "metadata": {
    "collapsed": false
   },
   "outputs": [],
   "source": [
    "model.fit_offline(batch_vectorizer,num_collection_passes=40)"
   ]
  },
  {
   "cell_type": "markdown",
   "metadata": {},
   "source": [
    "Теперь построим графики зависимостей снимаемых с моделей метрик от номера итерации"
   ]
  },
  {
   "cell_type": "code",
   "execution_count": 19,
   "metadata": {
    "collapsed": false
   },
   "outputs": [
    {
     "data": {
      "text/plain": [
       "<matplotlib.text.Text at 0x7f00084eca90>"
      ]
     },
     "execution_count": 19,
     "metadata": {},
     "output_type": "execute_result"
    },
    {
     "data": {
      "image/png": "[encoded data removed]",
      "text/plain": [
       "<matplotlib.figure.Figure at 0x7f000853fc50>"
      ]
     },
     "metadata": {},
     "output_type": "display_data"
    }
   ],
   "source": [
    "plt.figure(figsize=(12,6),dpi=90)\n",
    "plt.plot(xrange(model.num_phi_updates),model.score_tracker['PerplexityScore'].value)\n",
    "plt.xlabel('Iterations')\n",
    "plt.ylabel('Perplexity')"
   ]
  },
  {
   "cell_type": "code",
   "execution_count": 22,
   "metadata": {
    "collapsed": false
   },
   "outputs": [
    {
     "data": {
      "text/plain": [
       "<matplotlib.text.Text at 0x7eff81b55810>"
      ]
     },
     "execution_count": 22,
     "metadata": {},
     "output_type": "execute_result"
    },
    {
     "data": {
      "image/png": "[encoded data removed]",
      "text/plain": [
       "<matplotlib.figure.Figure at 0x7eff81b2d690>"
      ]
     },
     "metadata": {},
     "output_type": "display_data"
    }
   ],
   "source": [
    "plt.figure(figsize=(12,6),dpi=90)\n",
    "plt.plot(xrange(model.num_phi_updates),\n",
    "         model.score_tracker['TopTokensScoreNgramm10'].average_coherence, \n",
    "         label=\"Coherence 10\")\n",
    "plt.plot(xrange(model.num_phi_updates),\n",
    "         model.score_tracker['TopTokensScoreNgramm50'].average_coherence, \n",
    "         label=\"Coherence 50\")\n",
    "plt.legend(loc='best')\n",
    "plt.xlabel('Iterations')\n",
    "plt.ylabel('Coherence')"
   ]
  },
  {
   "cell_type": "markdown",
   "metadata": {},
   "source": [
    "Также можно распечатать списки топ слов, собираемых метриками `TopTokensScoreNgramm10` и `TopTokensScoreNgramm50`"
   ]
  },
  {
   "cell_type": "code",
   "execution_count": 27,
   "metadata": {
    "collapsed": false,
    "scrolled": false
   },
   "outputs": [
    {
     "name": "stdout",
     "output_type": "stream",
     "text": [
      "topic_235\n",
      "матрица струна точка число параметр пространство созвездие возникать частота являться\n",
      "topic_248\n",
      "япония японец страна японский запад европеец западный восток китай отношение\n",
      "topic_197\n",
      "изучение палеоботаник работа исследование растение являться современный изучаться усталость проблема\n",
      "topic_175\n",
      "аргумент моральный являться общий свобода личность согласие вопрос свободный благо\n",
      "topic_195\n",
      "насекомое растение муравей вид пестицид дерево муравьев яд вредитель гриб\n",
      "topic_194\n",
      "музей музейный экспозиция место коллекция современный естественно посетитель предмет стать\n",
      "topic_193\n",
      "внимание плод случай птица сторона поскольку гибель феномен экосистема происходить\n",
      "topic_192\n",
      "клетка ткань стволовой_клетка организм использовать существовать белка взять клеточный получить\n",
      "topic_191\n",
      "театр роль пьеса герой актёр театральный костюм сцена зритель играть\n",
      "topic_174\n",
      "культура культурный принцип лосев традиция форма представитель особенность образ смысл\n",
      "topic_214\n",
      "фильм испытуемый вербальный зритель евгений реплика просмотр высказывание экран смех\n",
      "topic_215\n",
      "поведение исследование science обнаружить наблюдать провести эксперимент произойти работа понимание\n",
      "topic_216\n",
      "бренд раковый_клетка коммуникация инвестиция компания сигнальный_путь таргетный_препарат онкология являться бизнес\n",
      "topic_217\n",
      "прошлое событие представление история стать знание исторический являться нарратив политика\n",
      "topic_210\n",
      "письмо письменность александр знак имя алфавит иероглиф африка орден народ\n",
      "topic_177\n",
      "частица кварк элементарный_частица стандартный_модель протон взаимодействие адрон масса нейтрино мезон\n",
      "topic_199\n",
      "архитектура здание архитектор архитектурный строительство дом город проект сооружение форма\n",
      "topic_198\n",
      "философ философия платон аристотель тирания говорить сократ политический_философия тиран философский\n",
      "topic_68\n",
      "инсульт сосуд нарушение кровь пациент заболевание реакция профилактика диагностика движение\n",
      "topic_69\n",
      "социология социолог дисциплина социальный граница социологический познание являться теоретический вопрос\n",
      "topic_119\n",
      "память процесс информация запоминать образ помнить запоминание храниться запомнить событие\n",
      "topic_118\n",
      "текст чтение читать пушкин говорить слово стихотворение нуль написать читатель\n",
      "topic_62\n",
      "мышца нервный_клетка приводить лошадь нервный_система мышечный потенциал_действие являться мембрана контакт\n",
      "topic_63\n",
      "империя площадь русский пространство центр имперский география страна россия национальный_государство\n",
      "topic_60\n",
      "pcourse num лекция курс курс_лекция современный проблема отдельный отобрать политический\n",
      "topic_61\n",
      "книга автор читать написать читатель посвятить писать глава тема рекомендовать\n",
      "topic_66\n",
      "предложение слово глагол синтаксис конструкция существительное грамматика прилагательное говорящий значение\n",
      "topic_67\n",
      "событие концепт описание эффект образ парк концептуализация являться порядок дать\n",
      "topic_64\n",
      "инфекция вич иммунный_система хозяин иммунитет паразит пожилое оказаться лимфоцит алкоголь\n",
      "topic_65\n",
      "бактерия ген биоинформатика белка геном рассказывать_доктор_биологический_наука белок клетка разный кишечный_палочка\n",
      "topic_171\n",
      "страна сша китай россия индия стать япония отношение цивилизация экономический\n",
      "topic_173\n",
      "интернет мобильность виртуальный перемещение доступ власть движение конфликт действие автомобиль\n",
      "topic_172\n",
      "общество социальный современный_общество индивид представление стать современный новое опыт направление\n",
      "topic_188\n",
      "мандельштам суд колдовство свидетельство пытка тюрьма средневековый документ ложь процедура\n",
      "topic_189\n",
      "операция депрессия пациент заболевание питание хирург женщина пища жир ожирение\n",
      "topic_180\n",
      "молекула полимер структура белка поверхность белок молекулярный образ друг зонд\n",
      "topic_181\n",
      "корреляция вес криптография рост связь ключ интерференция переменный результат использовать\n",
      "topic_182\n",
      "чёрный_дыра галактика звезда масса вселенная большой сверхмассивный_чёрный_дыра находиться скорость центр\n",
      "topic_183\n",
      "галиля экономист экономика слово движение риторика бог природа истина истинный\n",
      "topic_184\n",
      "диалог промышленный_революция экономика институт сотрудничество новый миллион лекция англия рамка\n",
      "topic_185\n",
      "справедливость интеграция страна вопрос объединение европейский_союз уровень друг политика европа\n",
      "topic_186\n",
      "caption width align attachment симметрия aligncenter alignnone рис вращение группа\n",
      "topic_187\n",
      "робот машина робототехника искусственный_интеллект техника работа возможность создание исследование видеть\n",
      "topic_244\n",
      "компьютер программа алгоритм последовательность математика машина работать программист программный_обеспечение процессор\n",
      "topic_108\n",
      "право церковь римский_право бог римский век юрист храм заказчик грех\n",
      "topic_100\n",
      "стратегия проблема траектория страна модернизация институт гипотеза ценность развитие сдвиг\n",
      "topic_101\n",
      "рассказ слово норма речевой пример речь русский_язык язык коммуникация пост\n",
      "topic_102\n",
      "государь король власть правитель бог смерть император народ правление политический\n",
      "topic_103\n",
      "сообщество группа субкультура отношение группировка молодёжь являться чужое социальный место\n",
      "topic_79\n",
      "изобретение инновация изобретатель белла телефон компания экономика автомобиль bell патент\n",
      "topic_78\n",
      "сеть пользователь исследователь социальный_сеть друг дать связь интернет страница сетевой\n",
      "topic_106\n",
      "сериал работа идея марксизм формализм русский литература смысл стать россия\n",
      "topic_107\n",
      "устройство материал транзистор электричество плёнка энергия использовать электроника работать органический\n",
      "topic_75\n",
      "коммуна пенсия студент комната имя быт жизнь правило число студенческий\n",
      "topic_74\n",
      "метр изд плата спб эволюция литр основа ред дарвин процесс\n",
      "topic_77\n",
      "масса ядро элемент атом протон образ свойство получить разный взаимодействие\n",
      "topic_76\n",
      "сигнал шум звук свет антенна инквизиция использовать частота образ плащ\n",
      "topic_71\n",
      "остров корабль англия крепость португальский находиться экспедиция берег писать стать\n",
      "topic_70\n",
      "задание ответ должный работать тестирование участник найти стать сервис журнал\n",
      "topic_73\n",
      "теория модель гипотеза являться образ существовать процесс предложить друг ограничение\n",
      "topic_72\n",
      "школьник егэ предмет школа учитель проблема химия преподавание должный стандарт\n",
      "topic_19\n",
      "мусульманин ислам брат движение конфликт афганистан северный_кавказ исламский борьба организация\n",
      "topic_18\n",
      "психоанализ фрейд психоаналитический пациент психотерапия способность работа аналитический анализ аналитик\n",
      "topic_109\n",
      "классика классический знание классик гуманитарный_наука научный философия традиция работа статус\n",
      "topic_13\n",
      "старение возраст процесс продолжительность_жизнь жить делиться эксперимент мышь стареть механизм\n",
      "topic_12\n",
      "энергия частица ускоритель пучок электрон протон импульс установка эксперимент большой\n",
      "topic_11\n",
      "сверхпроводимость сверхпроводник магнитный ток электрон явление эффект магнитный_пол магнитный_поль металл\n",
      "topic_10\n",
      "наука учёный научный открытие вопрос должный знание физик научный_революция идея\n",
      "topic_17\n",
      "геологический организм растение флор след группа животное ископаемое найти фауна\n",
      "topic_16\n",
      "нейрон мозг синапс активность связь эксперимент момент действие обучение активироваться\n",
      "topic_15\n",
      "чувство философия философский мысль бытие предшественник любовь отношение идея являться\n",
      "topic_14\n",
      "игра угроза игрок ход обещание действие теория_игра стратегия случай сторона\n",
      "topic_143\n",
      "университет сомнение корпорация знание гумбольдт принцип германия стать государство должный\n",
      "topic_218\n",
      "экономический страна бизнес производство место регион экономический_рост новый экономика торговля\n",
      "topic_80\n",
      "вода океан температура атмосфера градус климат вод земля происходить озеро\n",
      "topic_81\n",
      "лекция прочитать выбирать postnauka публиковать место посоветовать различный_площадка собрать_хороший_выступление_учёный интересный_лекция_автор_постнаука\n",
      "topic_82\n",
      "скажем устроить понятно нужный вопрос слово падеж говорить русский_язык естественно\n",
      "topic_83\n",
      "государство политика право либерализм либерал государственный говорить россия являться страна\n",
      "topic_84\n",
      "индеец испанец конкиста конкистадор америка испанский стать чума индейский земля\n",
      "topic_85\n",
      "царь бог египет египетский божество памятник имя эпоха цивилизация власть\n",
      "topic_86\n",
      "сказка интересный традиция образ герой обряд существовать суеверие легенда персонаж\n",
      "topic_87\n",
      "восприятие мозг схема видеть окружающий изображение воспринимать лицо ошибка сообщение\n",
      "topic_88\n",
      "свобода еврей русский народ эпоха идея свободный еврейский якобы россия\n",
      "topic_89\n",
      "микроорганизм метан процесс организм кислород микроб бактерия болото азот являться\n",
      "topic_212\n",
      "птица неандерталец предок костя динозавр миллион зуб эволюция жить современный\n",
      "topic_179\n",
      "церковь папа рим католический_церковь католический церковный католик россия религиозный отношение\n",
      "topic_178\n",
      "французский жанна франция образ секрет читатель депутат народ работа поскольку\n",
      "topic_105\n",
      "нейтронный_звезда чёрный_дыра источник вещество всплеск гравитационный_волна объект большой наблюдать излучение\n",
      "topic_28\n",
      "досуг спорт ведьма футбол игра клуб команда магия спортивный стать\n",
      "topic_29\n",
      "солнце звезда земля расстояние орбита скопление движение звёздный_скопление примерно наблюдение\n",
      "topic_26\n",
      "группа толпа конфликт действие движение гегель сторонник идея ситуация психология\n",
      "topic_27\n",
      "элита средний_класс общество_потребление среднее_класс трансформация класс политический россия страна связанный\n",
      "topic_24\n",
      "хороший точка_зрение правило большой заниматься существовать насколько считать должный говорить\n",
      "topic_25\n",
      "понятие смысл определение термин представление понимание идеология существовать связать являться\n",
      "topic_22\n",
      "ирландия ирландский документ картина написать страна фрагмент современный век традиция\n",
      "topic_23\n",
      "мозг материал намерение мысль компьютер технология образ расшифровка создание дефект\n",
      "topic_20\n",
      "война король франция военный страна конфликт писать фронт французский армия\n",
      "topic_21\n",
      "пространство дом пространственный город нью новое новый образ сеть становиться\n",
      "topic_7\n",
      "занятие курс лекция кофе брейк участник практический_занятие postnauka academy вопрос\n",
      "topic_6\n",
      "искусство авангард художник архив единство форма документ художественный источник чужак\n",
      "topic_5\n",
      "словарь слово язык интернет текст разный знать предмет русский_язык большой\n",
      "topic_4\n",
      "христианство христианский арабский сирийский язык араб христианин христиана называть территория\n",
      "topic_3\n",
      "система знание образ оценка ситуация новое результат действие многие работа\n",
      "topic_2\n",
      "землетрясение загрязнение сейсмический зона уровень структура территория большой складка крупный\n",
      "topic_1\n",
      "самец самка группа шимпанзе партнёр примат большой мужчина потомство некоторый\n",
      "topic_0\n",
      "право закон суд судья преступление россия полицейский социология_право полиция работать\n",
      "topic_170\n",
      "территория семья народ говорить археология жить население индоевропейский_язык миграция кавказ\n",
      "topic_9\n",
      "рыба эволюция животное группа особь эволюционный сантиметр популяция развитие особый\n",
      "topic_8\n",
      "китай китайский европа китаец запад восток техника европейский западный технический\n",
      "topic_190\n",
      "враг политический друг долг дар должный политика народ являться имя\n",
      "topic_240\n",
      "телескоп наблюдение астрономия тёмный_материя галактика вселенная результат сверхновый линия обсерватория\n",
      "topic_145\n",
      "теория ландшафт красота математический являться теория_струна поль вселенная вакуум пропорция\n",
      "topic_93\n",
      "химия материал соединение реакция вещество графен молекула углерод получить химический\n",
      "topic_92\n",
      "учёный институт лаборатория россия заниматься работать академия_наука наука рана работа\n",
      "topic_91\n",
      "речь коммуникация звук общение жест слово язык обезьяна действие рука\n",
      "topic_90\n",
      "фильм кино кинематограф зритель жанр картина режиссёр стать американский тема\n",
      "topic_97\n",
      "логика говорить семиотика смутный роман называть смута написать закон книга\n",
      "topic_96\n",
      "фольклор декабрист песня песнь фольклорный солдат сказка жанр восстание стать\n",
      "topic_95\n",
      "количество влиять зависимость уровень алкоголь вероятность потеря большой примерно причина\n",
      "topic_94\n",
      "фрейм повседневность социология событие повседневный социолог действие виктор_вахштайна практика социолог_виктор_вахштайна\n",
      "topic_247\n",
      "антибиотик микроб устойчивость устойчивый бактерия микробиология микроорганизм организм большой применять\n",
      "topic_246\n",
      "красный цвета зелёный мозг цвет синий цветок намерение видеть чувствительный\n",
      "topic_99\n",
      "земля жизнь марс условие планета миллиард планет существовать найти вод\n",
      "topic_98\n",
      "россия украина территория польский украинский нация земля центр москва страна\n",
      "topic_243\n",
      "кислород бактерия цианобактерия организм эукариот архея эволюция многоклеточный_организм прокариот жизнь\n",
      "topic_242\n",
      "литература писатель произведение литературный поэт стих роман писать поэзия пушкин\n",
      "topic_168\n",
      "галактика газа газ диск вещество звезда миллиард звездообразование скорость объект\n",
      "topic_169\n",
      "person эксперт формат мнение точка_зрение вопрос мнение_эксперт_постнаука группа постнаука_знакомить_читатель россия\n",
      "topic_31\n",
      "давление вещество жидкость кристалл структура являться натрий металл высокий_давление атом\n",
      "topic_30\n",
      "школа учитель математика биология ученик учебник учиться физика должный астрономия\n",
      "topic_33\n",
      "технология устройство прибор компания сеть разработка лаборатория датчик работать протокол\n",
      "topic_32\n",
      "проблема решение общество ресурс причина группа сила книга пример поскольку\n",
      "topic_35\n",
      "информация дать компания должный действие управление контролировать основа правило большой\n",
      "topic_34\n",
      "россия екатерина петербург императрица двор пётр российский посещение николай невеста\n",
      "topic_37\n",
      "моделирование проблема эволюция моделировать эффект процесс необходимый правило основание возникновение\n",
      "topic_36\n",
      "дать изображение нейронный_сеть компьютер задача машинный_обучение работать объект получить точка\n",
      "topic_39\n",
      "массовый_культура зомби современный тема медиа философ философия проблема фильм важный\n",
      "topic_38\n",
      "университет профессор университетский студент рейтинг факультет принятие_решение преподаватель вуз академический\n",
      "topic_211\n",
      "язык лингвист языковой английский говорить русский лингвистика лингвистический существовать носитель\n",
      "topic_238\n",
      "образование студент знание компетенция преподаватель философия система_образование высокий_образование образовательный формирование\n",
      "topic_162\n",
      "декарт материя движение свет объяснение говорить тело идея труд рис\n",
      "topic_213\n",
      "растение трансгенный_растение продукт натуральный признак испытание жирный_кислота организм ген гмо\n",
      "topic_196\n",
      "вселенная космология реликтовый_излучение галактика материя эксперимент неоднородность вещество пространство ранний_вселенная\n",
      "topic_159\n",
      "задача решение решать решить инсайт понять образ решение_задача способность решаться\n",
      "topic_158\n",
      "страна реактор нефть ядерный уран цена плутоний проблема топливо развитие\n",
      "topic_153\n",
      "постнаука перспектива учёный заниматься рассказывать социолог профессия будущее новый_программа говорить\n",
      "topic_152\n",
      "состояние ощущение образ сторона переход возникнуть чувствительность некоторый вещий называть\n",
      "topic_151\n",
      "лёд ледник переменный распределение дать статистика цена значение антарктида большой\n",
      "topic_150\n",
      "орех дерево крестьянин коллективизация плод страна индустриализация образ значение называть\n",
      "topic_157\n",
      "материал структура алмаз являться вещество твёрдость свойство кристаллический_структура работа кластер\n",
      "topic_156\n",
      "область исследование сфера специалист работа направление проблема необходимый дисциплина последний\n",
      "topic_155\n",
      "топливо технология производство использовать получать спектр россия спектроскопия получить газ\n",
      "topic_154\n",
      "сталин военный война армия советский солдат судан немец сила страна\n",
      "topic_163\n",
      "средневековый средневековье средний_век эпоха рукопись историк xvii_век источник сохраниться литература\n",
      "topic_219\n",
      "архетип европа революция армянский крестовый_поход травма юнга вопрос работа важный\n",
      "topic_44\n",
      "деньга закон сделка доллар рынок запрет средство некоторый сша отношение\n",
      "topic_45\n",
      "точность битый единица часы вселенная вычисление квантовый_компьютер компьютер нуль квантовый\n",
      "topic_46\n",
      "историк нация история война национальный интерес исследование франция категория анналы\n",
      "topic_47\n",
      "диалект язык анекдот словарь русский лексика цитата русский_язык говор карта\n",
      "topic_40\n",
      "миф представление мифология бог слово божество грек знать мифологический греческий\n",
      "topic_41\n",
      "мода знак носить одежда модный некий существовать ценность считать часто\n",
      "topic_42\n",
      "право власть король юрист колония документ парламент англия диктатура британский\n",
      "topic_43\n",
      "реформа дворянство стать роскошь россия богатство закон дворянский xviii_век жизнь\n",
      "topic_48\n",
      "планета звезда планет экзопланета солнечный_система большой видеть атмосфера юпитер земля\n",
      "topic_49\n",
      "хотеть желание плохо жизнь иногда план плохой должный давать ничто\n",
      "topic_117\n",
      "инфляция экономика правительство цена рынок центральный_банк банк банка страна кризис\n",
      "topic_116\n",
      "сердце размер поверхность наночастица нанотехнология атом нить кровь частица состоять\n",
      "topic_115\n",
      "слово название язык заимствование заимствовать иметься славянский примерно говорить долгий\n",
      "topic_114\n",
      "выборка опрос мозг ошибка двадцать способность головной_мозг тридцать некоторый результат\n",
      "topic_148\n",
      "нобелевский_премия премия работа биосфера следить получить вклад автор лауреат направление\n",
      "topic_149\n",
      "проект средство реализация государство контракт чиновник некоторый создание выполнение рамка\n",
      "topic_144\n",
      "праздник календарь герой народ шумер традиция образ территория бог город\n",
      "topic_113\n",
      "детектор частица эксперимент бозон_хиггс нейтрино событие результат распад античастица антиматерия\n",
      "topic_146\n",
      "труд дух становление вариант автор писать глава довольно книга думать\n",
      "topic_147\n",
      "город городской москва горожанин метро пространство место житель центр городской_пространство\n",
      "topic_140\n",
      "астроном увидеть телескоп стать звезда коллега небо жизнь астрономия место\n",
      "topic_141\n",
      "германия революция мировой_война франция немецкий война страна россия национал стать\n",
      "topic_142\n",
      "буква слово перевод русский_язык английский русский писать звук немецкий перевести\n",
      "topic_112\n",
      "дизайн довольно_простой совместно код lookatme учёный_ответить спорный_вопрос_читатель организм интересный_ответ_эксперт_постнаука запустить_спецпроект\n",
      "topic_225\n",
      "журнал рукопись издание крылов кафедра статья философский цензура шеллинга рецензент\n",
      "topic_224\n",
      "боль препарат катастрофа пациент применение повреждение назначение реакция средство являться\n",
      "topic_227\n",
      "партия выбор процедура избиратель кандидат голосование штат голосовать группа голос\n",
      "topic_226\n",
      "медицина смерть гален врач медицинский критерий гиппократ анатомия принцип жизнь\n",
      "topic_221\n",
      "право владение имущество анархизм свобода право_собственность вещий вещь лицо собственник\n",
      "topic_111\n",
      "эйнштейн уравнение двигаться пространство ньютон теория общий_теория_относительность закон должный скорость\n",
      "topic_223\n",
      "отношение латур оружие утверждение взаимодействие пространство внешний социальный реальность объект\n",
      "topic_222\n",
      "рецептор белка белок стресс организм мозг функция изменение происходить называть\n",
      "topic_110\n",
      "ритуал идентичность практика советский жизнь имя поскольку взрослый идеал детство\n",
      "topic_229\n",
      "значение трудность контекст слово значение_слово говорить порог допустить создавать отношение\n",
      "topic_228\n",
      "объект игрушка категория образ предмет показывать сценарий увидеть изображение связать\n",
      "topic_57\n",
      "глаз предложение чёрный собака парадигма испытуемый предмет камера визуальный взгляд\n",
      "topic_56\n",
      "ребёнок семья родитель рождение взрослый женщина родиться матерь развитие детство\n",
      "topic_55\n",
      "препарат лекарство заболевание лечение болезнь пациент больной работать медицина терапия\n",
      "topic_54\n",
      "каков рассказывать_доктор_физикий математический_наука платформа приложение молекулярный_машина создание абсолютно машина сторона\n",
      "topic_53\n",
      "сон спать роман булгаков цикл бодрствование сновидение мозг нарушение связать\n",
      "topic_52\n",
      "заниматься филолог студент язык сторона должный филология наука преподавать литература\n",
      "topic_51\n",
      "метеорит вулкан астероид километр земля извержение кратер комета находиться вещество\n",
      "topic_50\n",
      "функция теорема доказать математика число ельцин медведь доказательство множество математик\n",
      "topic_59\n",
      "гласный согласный слово говор ударение русский_язык называться мягкий говорить литературный_язык\n",
      "topic_58\n",
      "город глобализация глобальный отход место еда продукт связь полигон мусор\n",
      "topic_239\n",
      "мышление проблема библиотека психолог процесс цель психология разный решение_проблема вопрос\n",
      "topic_220\n",
      "смотреть работать развиваться про интересно посмотреть получиться далёкий интересный замечательный\n",
      "topic_166\n",
      "жизнь покушение террорист журналист терроризм портрет русский образ идея россия\n",
      "topic_167\n",
      "вселенная теория_струна описывать хокинг физика физик квантовый_теория вероятность квантовый гравитация\n",
      "topic_164\n",
      "эмоция страх эмоциональный организм мышей реакция испытывать работа мозг механизм\n",
      "topic_139\n",
      "святилище кавказ фигурка найти статуэтка изображение предмет обряд рука бог\n",
      "topic_138\n",
      "мезоамерика майя государство город правитель знать видеть существовать большой жить\n",
      "topic_234\n",
      "экономика страна экономист кризис экономический политика доход правительство богатый неравенство\n",
      "topic_165\n",
      "врач пациент болезнь шизофрения больной психиатр заболевание психиатрия нарушение лечение\n",
      "topic_232\n",
      "женщина мужчина женский власть мужской движение политический политика феминизм ориентация\n",
      "topic_233\n",
      "музыка тон музыкальный корея бердяев гамма ощущение нота слушатель ступень\n",
      "topic_230\n",
      "раса африка австралия тысяча жить группа признак большой северный человечество\n",
      "topic_231\n",
      "закон власть император король право свобода должный свободный поддать действие\n",
      "topic_131\n",
      "дочь одиночество жизнь жить отношение друг правда действие матерь проблема\n",
      "topic_130\n",
      "жест аббревиатура глагол слово говорить выражение русский_язык русский словарь употребление\n",
      "topic_133\n",
      "познание замечать психология внимание когнитивный_психология сознание вопрос психолог восприятие философия_сознание\n",
      "topic_132\n",
      "тело говорить рука душить часть телесный душа женщина свойство телесность\n",
      "topic_135\n",
      "вирус штамм вакцина болезнь грипп эпидемия мутация белка заболевание происходить\n",
      "topic_134\n",
      "антропология антрополог антропогенез заниматься этнос найти находка стать происхождение дисциплина\n",
      "topic_137\n",
      "ницше россия трагедия эмиграция война советский жизнь советский_власть оказаться германия\n",
      "topic_136\n",
      "дискурс меньшинство насилие расизм группа этнический являться негативный доминировать иммигрант\n",
      "topic_160\n",
      "имя сага русь князь отец скандинавский скандинав исландия святой рюрик\n",
      "topic_161\n",
      "сюжет герой артур повесть роман имя король рыцарь эпос битва\n",
      "topic_249\n",
      "говорить знать происходить думать понимать важный начинать сторона видеть проблема\n",
      "topic_236\n",
      "потребность психологический мотивация жизнь психология любовь отношение психолог родитель женщина\n",
      "topic_176\n",
      "сталин ленин советский власть работа вождь сталинский период определённый партийный\n",
      "topic_245\n",
      "вид миллион хищник существовать описать период стать исчезнуть биоразнообразие кризис\n",
      "topic_209\n",
      "ген мутация геном организм эволюция генетический отбор изменение генетик популяция\n",
      "topic_208\n",
      "социология дюркгейм лицо маркс россия социальный ситуация важный иногда солидарность\n",
      "topic_237\n",
      "русский россия народ сибирь национализм российский колонизация идея европа сибирский\n",
      "topic_203\n",
      "демократия гражданство гражданин власть мигрант страна право политический государство институт\n",
      "topic_202\n",
      "метафора тест интеллект способность качество жизнь отношение исследование логика коррупция\n",
      "topic_201\n",
      "мозг нейрон интеллект человеческий_мозг сознание искусственный_интеллект компьютер понимание работать способный\n",
      "topic_200\n",
      "аппарат космос полёт узел космический луна космонавт марс спутник земля\n",
      "topic_207\n",
      "история историк исторический знание прошлое знать американец книга стать исторический_знание\n",
      "topic_206\n",
      "право должник обязательство отношение кредитор ответственность правовой исполнение юридический кодекс\n",
      "topic_205\n",
      "днк рнк хромосома молекула_днк последовательность нуклеотид геном процесс клетка структура\n",
      "topic_204\n",
      "мозг способность гиппокамп животное стать нейрон показать взрослый обучение способный\n",
      "topic_104\n",
      "метод анализ использовать подход помощь работать исследовать использоваться изучать позволять\n",
      "topic_128\n",
      "мембрана фермент молекула организм белка синтез клетка липид соединение аминокислота\n",
      "topic_129\n",
      "атом фотон свет электрон частица использовать оптический квантовый волна распространяться\n",
      "topic_241\n",
      "диссертация работа студент экзамен должный степень журнал университет статья писать\n",
      "topic_122\n",
      "животное поведение животный этология сознание врождённый корпус поведение_животное орудие изучать\n",
      "topic_123\n",
      "концепция роман xvii_век китайский существовать буддизм текст энергия салон начало\n",
      "topic_120\n",
      "опухоль рак направить организм опухолевый_клетка химиотерапия связать использовать лекарство лечение\n",
      "topic_121\n",
      "товар мамонт экономика дать анализ_дать колебание цикл клонировать кризис россия\n",
      "topic_126\n",
      "журнал публикация статья history vol работа theory результат социолог исторический\n",
      "topic_127\n",
      "работа процент компания работать рабочий цена безработица работник некоторый экономика\n",
      "topic_124\n",
      "фонд условие грант слово эксперт заявка исследование буква сторона поддержка\n",
      "topic_125\n",
      "толстой кавказ жизнь кавказский слово мысль война смысл народ хороший\n"
     ]
    }
   ],
   "source": [
    "for topic, words in model.score_tracker['TopTokensScoreNgramm10'].last_tokens.iteritems():\n",
    "    print topic\n",
    "    for word in words:\n",
    "        print word,\n",
    "    print "
   ]
  }
 ],
 "metadata": {
  "kernelspec": {
   "display_name": "Python 2",
   "language": "python",
   "name": "python2"
  },
  "language_info": {
   "codemirror_mode": {
    "name": "ipython",
    "version": 2
   },
   "file_extension": ".py",
   "mimetype": "text/x-python",
   "name": "python",
   "nbconvert_exporter": "python",
   "pygments_lexer": "ipython2",
   "version": "2.7.12"
  }
 },
 "nbformat": 4,
 "nbformat_minor": 0
}
