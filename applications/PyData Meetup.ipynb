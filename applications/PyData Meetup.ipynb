{
 "cells": [
  {
   "cell_type": "markdown",
   "metadata": {},
   "source": [
    "# Разведочный поиск на статьях ХабраХабра"
   ]
  },
  {
   "cell_type": "code",
   "execution_count": 5,
   "metadata": {
    "collapsed": true
   },
   "outputs": [],
   "source": [
    "import nltk\n",
    "import urlparse\n",
    "import collections\n",
    "import BeautifulSoup\n",
    "\n",
    "import nltk\n",
    "import html2text\n",
    "html2text.config.INLINE_LINKS = False\n",
    "html2text.config.SKIP_INTERNAL_LINKS = True\n",
    "html2text.config.IGNORE_ANCHORS = True\n",
    "html2text.config.IGNORE_EMPHASIS = True\n",
    "html2text.config.IGNORE_IMAGES = True\n",
    "html2text.config.BYPASS_TABLES = False\n",
    "\n",
    "import os\n",
    "import json\n",
    "\n"
   ]
  },
  {
   "cell_type": "markdown",
   "metadata": {},
   "source": [
    "### 1. Предобработка данных"
   ]
  },
  {
   "cell_type": "code",
   "execution_count": 6,
   "metadata": {
    "collapsed": false
   },
   "outputs": [],
   "source": [
    "DATASET_PATH = '../habr_pages/'\n",
    "post_ids = sorted(int(filename) for filename in os.listdir(DATASET_PATH) if not filename.startswith('.'))\n",
    "def load_post(post_id):\n",
    "    with open(os.path.join(DATASET_PATH, str(post_id))) as fin:\n",
    "        post = json.load(fin)\n",
    "    return post"
   ]
  },
  {
   "cell_type": "code",
   "execution_count": 7,
   "metadata": {
    "collapsed": false
   },
   "outputs": [],
   "source": [
    "post_index = 1\n",
    "post = load_post(1)"
   ]
  },
  {
   "cell_type": "code",
   "execution_count": 8,
   "metadata": {
    "collapsed": false
   },
   "outputs": [
    {
     "data": {
      "text/plain": [
       "{u'author': u'deniskin',\n",
       " u'author_rating': 39.2,\n",
       " u'author_url': u'http://habrahabr.ru/users/deniskin/',\n",
       " u'comments': [{u'banned': False,\n",
       "   u'link': u'#comment_3131',\n",
       "   u'message_html': u'<div class=\"message html_format \">\\n            \\u041a\\u0430\\u043a \\u0432\\u0430\\u0440\\u0438\\u0430\\u043d\\u0442, \\u043c\\u044b \\u0434\\u0443\\u043c\\u0430\\u0435\\u043c \\u043e\\u0441\\u0442\\u0430\\u043d\\u043e\\u0432\\u0438\\u0442\\u044c\\u0441\\u044f \\u043d\\u0430 WackoWiki<br>\\r\\n<a href=\"http://wackowiki.com/HomePage\" title=\"http://wackowiki.com/HomePage\" target=\"_blank\">http://wackowiki.com/HomePage</a><br>\\r\\n<br>\\r\\n\\u0415\\u0441\\u0442\\u044c \\u0437\\u0430\\u043c\\u0435\\u0447\\u0430\\u043d\\u0438\\u044f \\u043f\\u043e \\u044d\\u0442\\u043e\\u043c\\u0443 \\u0434\\u0432\\u0438\\u0436\\u043a\\u0443?\\n        </div>',\n",
       "   u'replies': [{u'banned': False,\n",
       "     u'link': u'#comment_3156',\n",
       "     u'message_html': u'<div class=\"message html_format \">\\n            \\u0413\\u043e\\u0442\\u043e\\u0432 \\u043f\\u043e\\u043c\\u043e\\u0433\\u0430\\u0442\\u044c, \\u0435\\u0441\\u043b\\u0438 \\u0447\\u0435\\u0433\\u043e-\\u0442\\u043e \\u0441 \\u043d\\u0438\\u043c \\u0431\\u0443\\u0434\\u0435\\u0442 \\u043d\\u0435\\u043f\\u043e\\u043d\\u044f\\u0442\\u043d\\u043e.<br>\\n<br>\\n\\u041d\\u043e \\u043f\\u0438\\u0441\\u0430\\u0442\\u044c \\u043a\\u043e\\u0434 \\u043d\\u0435 \\u0433\\u043e\\u0442\\u043e\\u0432 =)\\n        </div>',\n",
       "     u'replies': [{u'banned': False,\n",
       "       u'link': u'#comment_3165',\n",
       "       u'message_html': u'<div class=\"message html_format \">\\n            \\u041d\\u0443 \\u0441\\u0443\\u0434\\u044f \\u043f\\u043e npj \\u043c\\u044b \\u0438 \\u043e\\u0442 \\u043f\\u0440\\u043e\\u0433\\u0440\\u0430\\u043c\\u043c\\u0438\\u043d\\u0433\\u0430 \\u043d\\u0435 \\u043e\\u0442\\u043a\\u0430\\u0436\\u0435\\u043c\\u0441\\u044f =)\\n        </div>',\n",
       "       u'replies': [],\n",
       "       u'time': u'15 \\u0438\\u044e\\u043b\\u044f 2006 \\u0432 09:32',\n",
       "       u'username': u'geraxe',\n",
       "       u'votes': 1}],\n",
       "     u'time': u'14 \\u0438\\u044e\\u043b\\u044f 2006 \\u0432 20:45',\n",
       "     u'username': u'kukutz',\n",
       "     u'votes': 0}],\n",
       "   u'time': u'14 \\u0438\\u044e\\u043b\\u044f 2006 \\u0432 17:44',\n",
       "   u'username': u'deniskin',\n",
       "   u'votes': 0},\n",
       "  {u'banned': False,\n",
       "   u'link': u'#comment_3140',\n",
       "   u'message_html': u'<div class=\"message html_format \">\\n            \\u043f\\u043e\\u0434\\u0443\\u043c\\u0430\\u0439\\u0442\\u0435 \\u0435\\u0449\\u0435 \\u0440\\u0430\\u0437 \\u0445\\u043e\\u0440\\u043e\\u0448\\u0435\\u043d\\u044c\\u043a\\u043e<br>\\r\\n\\u043d\\u0430\\u0444\\u0438\\u0433 \\u0432\\u0438\\u043a\\u0438 \\u043d\\u0438\\u043a\\u043e\\u043c\\u0443 \\u043d\\u0435 \\u043d\\u0443\\u0436\\u043d\\u0430<br>\\r\\n\\u043f\\u0440\\u043e\\u0432\\u0435\\u0434\\u0438\\u0442\\u0435 \\u043e\\u043f\\u0440\\u043e\\u0441\\n        </div>',\n",
       "   u'replies': [{u'banned': False,\n",
       "     u'link': u'#comment_3141',\n",
       "     u'message_html': u'<div class=\"message html_format \">\\n            \\u041a\\u0430\\u043a \\u0432\\u044b \\u0434\\u0443\\u043c\\u0430\\u0435\\u0442\\u0435, \\u043a\\u0430\\u043a FAQ \\u0431\\u0443\\u0434\\u0435\\u0442 \\u043f\\u043e\\u043b\\u043d\\u044b\\u043c: \\u0441\\u043e\\u0441\\u0442\\u0430\\u0432\\u043b\\u0435\\u043d\\u043d\\u044b\\u0439 \\u043e\\u0434\\u043d\\u0438\\u043c \\u0447\\u0435\\u043b\\u043e\\u0432\\u0435\\u043a\\u043e\\u043c, \\u0438\\u043b\\u0438 \\u0441\\u043e\\u0441\\u0442\\u0430\\u0432\\u043b\\u0435\\u043d\\u043d\\u044b\\u0439 \\u043a\\u043e\\u043b\\u043b\\u0435\\u043a\\u0442\\u0438\\u0432\\u043d\\u043e? :)\\n        </div>',\n",
       "     u'replies': [{u'banned': False,\n",
       "       u'link': u'#comment_3151',\n",
       "       u'message_html': u'<div class=\"message html_format \">\\n            \\u043a\\u0430\\u043a = \\u043a\\u0430\\u043a\\u043e\\u0439\\n        </div>',\n",
       "       u'replies': [],\n",
       "       u'time': u'14 \\u0438\\u044e\\u043b\\u044f 2006 \\u0432 20:15',\n",
       "       u'username': u'deniskin',\n",
       "       u'votes': 1},\n",
       "      {u'banned': False,\n",
       "       u'link': u'#comment_3481',\n",
       "       u'message_html': u'<div class=\"message html_format bad bad1\">\\n            \\u0421\\u043e\\u0441\\u0442\\u0430\\u0432\\u043b\\u0435\\u043d\\u043d\\u044b\\u0439 \\u043a\\u043e\\u043b\\u043b\\u0435\\u043a\\u0442\\u0438\\u0432\\u043d\\u043e, \\u0442.\\u0435. \\u043a\\u0430\\u043a \\u043e\\u0431\\u044b\\u0447\\u043d\\u043e.<br>\\n\\u041b\\u044e\\u0434\\u0438 \\u0431\\u0443\\u0434\\u0443\\u0442 \\u0441\\u043f\\u0440\\u0430\\u0448\\u0438\\u0432\\u0430\\u0442\\u044c, \\u0430 \\u0440\\u0430\\u0437\\u0440\\u0430\\u0431\\u043e\\u0442\\u0447\\u0438\\u043a\\u0438 \\u043e\\u0442\\u0432\\u0435\\u0447\\u0430\\u0442\\u044c.<br>\\n\\u0410 \\u0432\\u043e\\u043e\\u0431\\u0449\\u0435 \\u043d\\u0435 \\u043c\\u0435\\u0448\\u0430\\u043b\\u043e \\u0431\\u044b \\u0441 \\u044e\\u0437\\u0430\\u0431\\u0438\\u043b\\u0438\\u0442\\u0438 \\u043f\\u043e\\u0440\\u0430\\u0431\\u043e\\u0442\\u0430\\u0442\\u044c.<br>\\n\\u0417\\u0430 \\u043f\\u0435\\u0440\\u0432\\u044b\\u0435 30 \\u043c\\u0438\\u043d\\u0443\\u0442 \\u0437\\u0434\\u0435\\u0441\\u044c \\u044f \\u0435\\u043b\\u0435 \\u0441\\u043e\\u043e\\u0440\\u0438\\u0435\\u043d\\u0442\\u0438\\u0440\\u043e\\u0432\\u0430\\u043b\\u0441\\u044f, \\u0447\\u0442\\u043e \\u043a \\u0447\\u0435\\u043c\\u0443.<br>\\n\\u041a\\u043e\\u0433\\u0434\\u0430 \\u0431\\u0443\\u0434\\u0435\\u0442 \\u0445\\u043e\\u0440\\u043e\\u0448\\u0435\\u0435 \\u044e\\u0437\\u0430\\u0431\\u0438\\u043b\\u0438\\u0442\\u0438, \\u0442\\u043e\\u0433\\u0434\\u0430 \\u0438 \\u043f\\u043e\\u0442\\u0440\\u0435\\u0431\\u043d\\u043e\\u0441\\u0442\\u044c \\u0432 FAQ \\u043e\\u0442\\u043f\\u0430\\u0434\\u0435\\u0442 \\u0441\\u0430\\u043c\\u0430 \\u0441\\u043e\\u0431\\u043e\\u0439.\\n        </div>',\n",
       "       u'replies': [],\n",
       "       u'time': u' 4 \\u0430\\u0432\\u0433\\u0443\\u0441\\u0442\\u0430 2006 \\u0432 01:44',\n",
       "       u'username': u'TechnologyMasta',\n",
       "       u'votes': -1}],\n",
       "     u'time': u'14 \\u0438\\u044e\\u043b\\u044f 2006 \\u0432 19:37',\n",
       "     u'username': u'deniskin',\n",
       "     u'votes': 1}],\n",
       "   u'time': u'14 \\u0438\\u044e\\u043b\\u044f 2006 \\u0432 19:33',\n",
       "   u'username': u'minaton',\n",
       "   u'votes': 1},\n",
       "  {u'banned': False,\n",
       "   u'link': u'#comment_3163',\n",
       "   u'message_html': u'<div class=\"message html_format \">\\n            \\u043f\\u043e\\u043f\\u0440\\u043e\\u0431\\u0443\\u0439\\u0442\\u0435 mediawiki<br>\\r\\n<a href=\"http://www.mediawiki.org/wiki/MediaWiki\" title=\"http://www.mediawiki.org/wiki/MediaWiki\" target=\"_blank\">http://www.mediawiki.org/wiki/MediaWiki</a>\\n        </div>',\n",
       "   u'replies': [{u'banned': False,\n",
       "     u'link': u'#comment_3171',\n",
       "     u'message_html': u'<div class=\"message html_format \">\\n            =( \\u0431\\u043e\\u044e\\u0441\\u044c PHP \\u0431\\u0443\\u0434\\u0435\\u0442 \\u043f\\u043e\\u0441\\u043b\\u0430\\u043d\\u043e \\u043d\\u0430\\u0445\\u0440\\u0435\\u043d. <br>\\n\\u041d\\u0443 \\u0432 \\u0441\\u0438\\u043b\\u0443 \\u0434\\u043e\\u043b\\u0431\\u0430\\u043d\\u0443\\u0442\\u043e\\u0441\\u0442\\u0438 \\u043c\\u0435\\u0441\\u0442\\u043d\\u043e\\u0433\\u043e \\u0440\\u0430\\u0437\\u0440\\u0430\\u0431\\u043e\\u0442\\u0447\\u0438\\u043a\\u0430 =)\\n        </div>',\n",
       "     u'replies': [{u'banned': False,\n",
       "       u'link': u'#comment_3201',\n",
       "       u'message_html': u'<div class=\"message html_format \">\\n            \\u041f\\u043e\\u043f\\u0440\\u043e\\u0431\\u0443\\u0439\\u0442\\u0435 MoinMoin Wiki Engine<br>\\n<a href=\"http://moinmoin.wikiwikiweb.de/\" title=\"http://moinmoin.wikiwikiweb.de/\" target=\"_blank\">http://moinmoin.wikiwikiweb.de/</a><br>\\n\\n        </div>',\n",
       "       u'replies': [{u'banned': False,\n",
       "         u'link': u'#comment_3423',\n",
       "         u'message_html': u'<div class=\"message html_format \">\\n            \\u043f\\u043e\\u043f\\u0440\\u043e\\u0431\\u043e\\u0432\\u0430\\u043b.. <br>\\n<br>\\n\\u041f\\u043e\\u043a\\u0430 \\u043c\\u043d\\u0435 \\u0431\\u043e\\u043b\\u044c\\u0448\\u0435 \\u0432\\u0441\\u0435\\u0433\\u043e <a href=\"http://twiki.org/\" title=\"http://twiki.org/\" target=\"_blank\">http://twiki.org/</a> \\u043f\\u043e\\u043d\\u0440\\u0430\\u0432\\u0438\\u043b\\u043e\\u0441\\u044c.. \\u043d\\u043e \\u0441\\u0444\\u043e\\u0440\\u043c\\u0443\\u043b\\u0438\\u0440\\u043e\\u0432\\u0430\\u0442\\u044c \\u043f\\u043e\\u0447\\u0435\\u043c\\u0443 - \\u043d\\u0435 \\u043c\\u043e\\u0433\\u0443 =) \\u041d\\u0430 \\u0443\\u0440\\u043e\\u0432\\u043d\\u0435 \\u0438\\u043d\\u0441\\u0442\\u0438\\u043d\\u043a\\u0442\\u043e\\u0432..\\n        </div>',\n",
       "         u'replies': [],\n",
       "         u'time': u'27 \\u0438\\u044e\\u043b\\u044f 2006 \\u0432 20:13',\n",
       "         u'username': u'geraxe',\n",
       "         u'votes': 0}],\n",
       "       u'time': u'16 \\u0438\\u044e\\u043b\\u044f 2006 \\u0432 02:15',\n",
       "       u'username': u'gameboyhippo',\n",
       "       u'votes': 0},\n",
       "      {u'banned': True, u'replies': []}],\n",
       "     u'time': u'15 \\u0438\\u044e\\u043b\\u044f 2006 \\u0432 13:01',\n",
       "     u'username': u'geraxe',\n",
       "     u'votes': 0}],\n",
       "   u'time': u'15 \\u0438\\u044e\\u043b\\u044f 2006 \\u0432 02:12',\n",
       "   u'username': u'gameboyhippo',\n",
       "   u'votes': 0},\n",
       "  {u'banned': False,\n",
       "   u'link': u'#comment_2842110',\n",
       "   u'message_html': u'<div class=\"message html_format \">\\n            \\u0412\\u043e\\u0442 \\u043f\\u0435\\u0440\\u0432\\u044b\\u0439 \\u043f\\u043e\\u0441\\u0442, \\u0435\\u0433\\u043e \\u043d\\u0435\\u0442 \\u043d\\u0430 \\u0433\\u043b\\u0430\\u0432\\u043d\\u043e\\u0439, \\u0438 \\u043f\\u043b\\u044e\\u0441\\u0430\\u043d\\u0443\\u0442\\u044c \\u0443\\u0436\\u0435 \\u043d\\u0435\\u043b\\u044c\\u0437\\u044f\\n        </div>',\n",
       "   u'replies': [],\n",
       "   u'time': u'15 \\u043c\\u0430\\u044f 2010 \\u0432 00:01',\n",
       "   u'username': u'khekkly',\n",
       "   u'votes': 0},\n",
       "  {u'banned': False,\n",
       "   u'link': u'#comment_3253983',\n",
       "   u'message_html': u'<div class=\"message html_format \">\\n            \\u0414\\u0430 \\u0443\\u0436\\u2026 \\u041f\\u0435\\u0440\\u0432\\u044b\\u0439 \\u043f\\u043e\\u0441\\u0442. \\u041e\\u0442 \\u0414\\u0435\\u043d\\u0438\\u0441\\u0430\\u2026 +1. \\u042d\\u0442\\u043e \\u0442\\u0430\\u043a \\u043a\\u0440\\u0443\\u0442\\u043e)\\n        </div>',\n",
       "   u'replies': [{u'banned': False,\n",
       "     u'link': u'#comment_3255973',\n",
       "     u'message_html': u'<div class=\"message html_format \">\\n            \\u041a\\u0430\\u043a \\u0442\\u044b \\u043f\\u043e\\u043f\\u0430\\u043b \\u0441\\u044e\\u0434\\u0430? :)\\n        </div>',\n",
       "     u'replies': [{u'banned': False,\n",
       "       u'link': u'#comment_3256572',\n",
       "       u'message_html': u'<div class=\"message html_format \">\\n            <a href=\"http://habrahabr.ru/p/1/\">habrahabr.ru/p/1/</a><br>\\r\\n<br>\\r\\n\\u041b\\u043e\\u0433\\u0438\\u043a\\u0430 \\u0432\\u0441\\u0435\\u0433\\u0434\\u0430 \\u0441\\u043e\\u043f\\u0440\\u043e\\u0432\\u043e\\u0436\\u0434\\u0430\\u043b\\u0430 \\u043c\\u0435\\u043d\\u044f \\u043f\\u043e \\u0436\\u0438\\u0437\\u043d\\u0438.\\n        </div>',\n",
       "       u'replies': [],\n",
       "       u'time': u'16 \\u0441\\u0435\\u043d\\u0442\\u044f\\u0431\\u0440\\u044f 2010 \\u0432 19:08',\n",
       "       u'username': u'Kuuuzya',\n",
       "       u'votes': 0}],\n",
       "     u'time': u'16 \\u0441\\u0435\\u043d\\u0442\\u044f\\u0431\\u0440\\u044f 2010 \\u0432 16:32',\n",
       "     u'username': u'deniskin',\n",
       "     u'votes': 0}],\n",
       "   u'time': u'16 \\u0441\\u0435\\u043d\\u0442\\u044f\\u0431\\u0440\\u044f 2010 \\u0432 01:18',\n",
       "   u'username': u'Kuuuzya',\n",
       "   u'votes': 0},\n",
       "  {u'banned': False,\n",
       "   u'link': u'#comment_4264942',\n",
       "   u'message_html': u'<div class=\"message html_format \">\\n            \\u0445\\u0430\\u0431\\u0440\\u0430\\u0445\\u0430\\u0431?\\n        </div>',\n",
       "   u'replies': [],\n",
       "   u'time': u'21 \\u0441\\u0435\\u043d\\u0442\\u044f\\u0431\\u0440\\u044f 2011 \\u0432 20:59',\n",
       "   u'username': u'lukaville',\n",
       "   u'votes': 0},\n",
       "  {u'banned': False,\n",
       "   u'link': u'#comment_4411513',\n",
       "   u'message_html': u'<div class=\"message html_format \">\\n            \\u0427\\u0443\\u0441\\u0442\\u0432\\u0443\\u044e \\u0441\\u0435\\u0431\\u044f \\u0430\\u0440\\u0445\\u0435\\u043e\\u043b\\u043e\\u0433\\u043e\\u043c\\u2026\\n        </div>',\n",
       "   u'replies': [],\n",
       "   u'time': u'18 \\u043d\\u043e\\u044f\\u0431\\u0440\\u044f 2011 \\u0432 17:54',\n",
       "   u'username': u'ubunterro',\n",
       "   u'votes': 0},\n",
       "  {u'banned': False,\n",
       "   u'link': u'#comment_4683507',\n",
       "   u'message_html': u'<div class=\"message html_format \">\\n            \\u041d\\u0435 \\u044f \\u043e\\u0434\\u0438\\u043d, \\u0447\\u0443\\u044e, \\u043d\\u0430\\u0431\\u0440\\u0430\\u043b \\xab1\\xbb, \\u043f\\u043e\\u0441\\u043b\\u0435 \\u043e\\u0431\\u043d\\u043e\\u0432\\u043b\\u0435\\u043d\\u0438\\u044f\\u2026 :]\\n        </div>',\n",
       "   u'replies': [{u'banned': False,\n",
       "     u'link': u'#comment_4853434',\n",
       "     u'message_html': u'<div class=\"message html_format \">\\n            \\u0412\\u044b \\u043d\\u0435 \\u043e\\u0434\\u0438\\u043d \\u0442\\u0430\\u043a\\u043e\\u0439 \\u043b\\u044e\\u0431\\u043e\\u043f\\u044b\\u0442\\u043d\\u044b\\u0439 :). \\u0410 \\u043f\\u043e\\u0447\\u0435\\u043c\\u0443 \\u043f\\u043e\\u0441\\u043b\\u0435 \\u043e\\u0431\\u043d\\u043e\\u0432\\u043b\\u0435\\u043d\\u0438\\u044f? \\u0418 \\u0434\\u043e \\u043e\\u0431\\u043d\\u043e\\u0432\\u043b\\u0435\\u043d\\u0438\\u044f \\u043c\\u043e\\u0436\\u043d\\u043e \\u0431\\u044b\\u043b\\u043e \\u043d\\u043e\\u043c\\u0435\\u0440 \\u043f\\u043e\\u0441\\u0442\\u0430 \\u0432\\u0432\\u0435\\u0441\\u0442\\u0438 \\u0436\\u0435?\\n        </div>',\n",
       "     u'replies': [{u'banned': False,\n",
       "       u'link': u'#comment_4853439',\n",
       "       u'message_html': u'<div class=\"message html_format \">\\n            \\u0414\\u0430, \\u043c\\u043e\\u0436\\u043d\\u043e \\u0431\\u044b\\u043b\\u043e, \\u043d\\u043e \\u044d\\u0442\\u043e \\u0431\\u044b\\u043b\\u043e \\u043d\\u0435 \\u0442\\u0430\\u043a \\u043e\\u0447\\u0435\\u0432\\u0438\\u0434\\u043d\\u043e :)\\n        </div>',\n",
       "       u'replies': [],\n",
       "       u'time': u'26 \\u043c\\u0430\\u044f 2012 \\u0432 00:04',\n",
       "       u'username': u'BeLove',\n",
       "       u'votes': 1}],\n",
       "     u'time': u'26 \\u043c\\u0430\\u044f 2012 \\u0432 00:02',\n",
       "     u'username': u'vyacheslav_ka',\n",
       "     u'votes': 0}],\n",
       "   u'time': u'17 \\u043c\\u0430\\u0440\\u0442\\u0430 2012 \\u0432 16:51',\n",
       "   u'username': u'BeLove',\n",
       "   u'votes': 0},\n",
       "  {u'banned': False,\n",
       "   u'link': u'#comment_4852069',\n",
       "   u'message_html': u'<div class=\"message html_format \">\\n            \\u0412 \\u043f\\u0440\\u044f\\u043c\\u043e\\u043c \\u044d\\u0444\\u0438\\u0440\\u0435 \\u043a\\u043e\\u043c\\u043c\\u0435\\u043d\\u0442\\u044b \\u043e\\u0442\\u043e\\u0431\\u0440\\u0430\\u0436\\u0430\\u044e\\u0442\\u0441\\u044f?\\n        </div>',\n",
       "   u'replies': [{u'banned': False,\n",
       "     u'link': u'#comment_4852072',\n",
       "     u'message_html': u'<div class=\"message html_format \">\\n            \\u0412\\u0438\\u0434\\u0438\\u043c\\u043e, \\u0447\\u0442\\u043e \\u043d\\u0435\\u0442 :(\\n        </div>',\n",
       "     u'replies': [],\n",
       "     u'time': u'25 \\u043c\\u0430\\u044f 2012 \\u0432 15:30',\n",
       "     u'username': u'lukaville',\n",
       "     u'votes': 1}],\n",
       "   u'time': u'25 \\u043c\\u0430\\u044f 2012 \\u0432 15:29',\n",
       "   u'username': u'lukaville',\n",
       "   u'votes': 1},\n",
       "  {u'banned': False,\n",
       "   u'link': u'#comment_5235999',\n",
       "   u'message_html': u'<div class=\"message html_format \">\\n            \\u0423\\u0445 \\u0442\\u044b, \\u043f\\u0435\\u0440\\u0432\\u044b\\u0439 \\u043f\\u043e\\u0441\\u0442.\\n        </div>',\n",
       "   u'replies': [{u'banned': False,\n",
       "     u'link': u'#comment_5237643',\n",
       "     u'message_html': u'<div class=\"message html_format \">\\n            \\u0412\\u044b, \\u043d\\u0430\\u0432\\u0435\\u0440\\u043d\\u043e, \\u043f\\u043e\\u0434\\u0443\\u043c\\u0430\\u043b\\u0438, \\u043e \\u0442\\u043e\\u043c \\u0436\\u0435, \\u0447\\u0442\\u043e \\u0438 \\u044f :)\\n        </div>',\n",
       "     u'replies': [],\n",
       "     u'time': u' 6 \\u043e\\u043a\\u0442\\u044f\\u0431\\u0440\\u044f 2012 \\u0432 18:35',\n",
       "     u'username': u'rasa',\n",
       "     u'votes': 0}],\n",
       "   u'time': u' 6 \\u043e\\u043a\\u0442\\u044f\\u0431\\u0440\\u044f 2012 \\u0432 07:53',\n",
       "   u'username': u'dasty',\n",
       "   u'votes': 0},\n",
       "  {u'banned': False,\n",
       "   u'link': u'#comment_5315019',\n",
       "   u'message_html': u'<div class=\"message html_format \">\\n            \\u041f\\u0440\\u0438\\u0432\\u0435\\u0442 \\u0430\\u0440\\u0445\\u0435\\u043e\\u043b\\u043e\\u0433\\u0430\\u043c! :)\\n        </div>',\n",
       "   u'replies': [],\n",
       "   u'time': u'22 \\u043e\\u043a\\u0442\\u044f\\u0431\\u0440\\u044f 2012 \\u0432 18:42',\n",
       "   u'username': u'arren',\n",
       "   u'votes': 1},\n",
       "  {u'banned': False,\n",
       "   u'link': u'#comment_5977025',\n",
       "   u'message_html': u'<div class=\"message html_format \">\\n            \\u0417\\u0434\\u0435\\u0441\\u044c \\u0431\\u044b\\u043b \\u044f\\n        </div>',\n",
       "   u'replies': [],\n",
       "   u'time': u'10 \\u043c\\u0430\\u0440\\u0442\\u0430 2013 \\u0432 11:42',\n",
       "   u'username': u'terrance',\n",
       "   u'votes': 1},\n",
       "  {u'banned': False,\n",
       "   u'link': u'#comment_6104149',\n",
       "   u'message_html': u'<div class=\"message html_format \">\\n            \\u0412\\u043e\\u0442 \\u043e\\u043d\\u0438, \\u0438\\u0441\\u0442\\u043e\\u043a\\u0438!\\n        </div>',\n",
       "   u'replies': [],\n",
       "   u'time': u' 6 \\u0430\\u043f\\u0440\\u0435\\u043b\\u044f 2013 \\u0432 16:44',\n",
       "   u'username': u'Oriand',\n",
       "   u'votes': 1},\n",
       "  {u'banned': False,\n",
       "   u'link': u'#comment_6263059',\n",
       "   u'message_html': u'<div class=\"message html_format \">\\n            \\u042f \\u0431\\u043e\\u043b\\u044c\\u0448\\u0435\\u0433\\u043e \\u043e\\u0436\\u0438\\u0434\\u0430\\u043b \\u043e\\u0442 \\u043f\\u0435\\u0440\\u0432\\u043e\\u0439 \\u0441\\u0442\\u0430\\u0442\\u044c\\u0438, \\u043d\\u043e \\u0434\\u0443\\u043c\\u0430\\u044e \\u043a\\u0430\\u043a \\u0438 \\u0432\\u0441\\u0435 \\u043f\\u0440\\u0438\\u044f\\u0442\\u043d\\u043e \\u0443\\u0434\\u0438\\u0432\\u043b\\u0435\\u043d, \\u0447\\u0442\\u043e \\u043d\\u0435 \\u043e\\u0434\\u0438\\u043d \\u044f \\u0434\\u043e\\u0434\\u0443\\u043c\\u0430\\u043b\\u0441\\u044f \\u0434\\u043e \\u044d\\u0442\\u043e\\u0433\\u043e ))) \\u0418\\u0437\\u043c\\u0435\\u043d\\u0438\\u0442\\u044c \\u043d\\u043e\\u043c\\u0435\\u0440 \\u0432 \\u0443\\u0440\\u044d\\u043b\\u0435 \\u043d\\u0430 1.\\n        </div>',\n",
       "   u'replies': [],\n",
       "   u'time': u'21 \\u043c\\u0430\\u044f 2013 \\u0432 08:13',\n",
       "   u'username': u'BrownTrigger',\n",
       "   u'votes': 0},\n",
       "  {u'banned': False,\n",
       "   u'link': u'#comment_6514064',\n",
       "   u'message_html': u'<div class=\"message html_format \">\\n            \\u0410 \\u0435\\u0449\\u0435 \\u0442\\u0443\\u0442 \\u0431\\u044b\\u043b \\u044f :)\\n        </div>',\n",
       "   u'replies': [],\n",
       "   u'time': u'21 \\u0438\\u044e\\u043b\\u044f 2013 \\u0432 21:29',\n",
       "   u'username': u'STFBEE',\n",
       "   u'votes': 2},\n",
       "  {u'banned': False,\n",
       "   u'link': u'#comment_6524344',\n",
       "   u'message_html': u'<div class=\"message html_format \">\\n            \\u0427\\u0435\\u0441\\u043d\\u043e \\u0433\\u043e\\u0432\\u043e\\u0440\\u044f \\u043d\\u0430 1\\u043e\\u0439 \\u0441\\u0442\\u0440\\u0430\\u043d\\u0438\\u0446\\u0435 \\u044f \\u043e\\u0436\\u0438\\u0434\\u0430\\u043b \\u043a\\u0430\\u043a\\u043e\\u0439-\\u043d\\u0438\\u0431\\u0443\\u0434\\u044c hello world\\n        </div>',\n",
       "   u'replies': [{u'banned': False,\n",
       "     u'link': u'#comment_6721928',\n",
       "     u'message_html': u'<div class=\"message html_format \">\\n            Hello World\\n        </div>',\n",
       "     u'replies': [],\n",
       "     u'time': u'12 \\u0441\\u0435\\u043d\\u0442\\u044f\\u0431\\u0440\\u044f 2013 \\u0432 23:33',\n",
       "     u'username': u'shus',\n",
       "     u'votes': 1}],\n",
       "   u'time': u'24 \\u0438\\u044e\\u043b\\u044f 2013 \\u0432 17:27',\n",
       "   u'username': u'danpetruk',\n",
       "   u'votes': 0},\n",
       "  {u'banned': False,\n",
       "   u'link': u'#comment_6873004',\n",
       "   u'message_html': u'<div class=\"message html_format \">\\n            \\u0421\\u0442\\u0440\\u0430\\u043d\\u043d\\u043e, \\u0447\\u0442\\u043e \\u043f\\u043e\\u0441\\u0442\\u044b \\u043d\\u0443\\u043c\\u0435\\u0440\\u0443\\u044e\\u0442\\u0441\\u044f \\u043d\\u0435 \\u0441 0.\\n        </div>',\n",
       "   u'replies': [{u'banned': False,\n",
       "     u'link': u'#comment_7002876',\n",
       "     u'message_html': u'<div class=\"message html_format \">\\n            \\u0418 \\u0442\\u043e\\u0447\\u043d\\u043e, \\u043d\\u0435 \\u0441 \\u043d\\u0443\\u043b\\u044f.\\n        </div>',\n",
       "     u'replies': [],\n",
       "     u'time': u'19 \\u043d\\u043e\\u044f\\u0431\\u0440\\u044f 2013 \\u0432 23:49',\n",
       "     u'username': u'Vilgelm',\n",
       "     u'votes': 1}],\n",
       "   u'time': u'19 \\u043e\\u043a\\u0442\\u044f\\u0431\\u0440\\u044f 2013 \\u0432 19:35',\n",
       "   u'username': u'Zoberg',\n",
       "   u'votes': 2},\n",
       "  {u'banned': False,\n",
       "   u'link': u'#comment_7031308',\n",
       "   u'message_html': u'<div class=\"message html_format \">\\n            \\u041e_\\u043e \\u0441\\u043a\\u043e\\u043b\\u044c\\u043a\\u043e \\u043a\\u043e\\u043f\\u0430\\u0442\\u0435\\u043b\\u0435\\u0439 \\u043f\\u0435\\u0440\\u0432\\u043e\\u0433\\u043e \\u043f\\u043e\\u0441\\u0442\\u0430 )<br>\\r\\n\\u0437.\\u044b. \\u0435\\u0449\\u0435 \\u043d\\u0443\\u043c\\u0435\\u0440\\u0430\\u0446\\u0438\\u044e \\u0441 \\u043d\\u0443\\u043b\\u044f \\u043f\\u0440\\u043e\\u0432\\u0435\\u0440\\u0438\\u043b, \\u0430 \\u0442\\u0443\\u0442 \\u0438 \\u043e\\u0431\\u0441\\u0443\\u0436\\u0434\\u0435\\u043d\\u0438\\u0435 \\u0442\\u0430\\u043a\\u043e\\u0435 \\u0436\\u0435 ))\\n        </div>',\n",
       "   u'replies': [],\n",
       "   u'time': u'27 \\u043d\\u043e\\u044f\\u0431\\u0440\\u044f 2013 \\u0432 01:50',\n",
       "   u'username': u'unStaiL',\n",
       "   u'votes': 0},\n",
       "  {u'banned': False,\n",
       "   u'link': u'#comment_7222328',\n",
       "   u'message_html': u'<div class=\"message html_format \">\\n            \\u041f\\u0440\\u0438\\u0432\\u0435\\u0442 \\u0438\\u0437 2014! :)\\n        </div>',\n",
       "   u'replies': [{u'banned': False,\n",
       "     u'link': u'#comment_7295715',\n",
       "     u'message_html': u'<div class=\"message html_format \">\\n            \\u041f\\u0440\\u0438\\u0432\\u0435\\u0442 \\u0438\\u0437 \\u043d\\u043e\\u0432\\u043e\\u0433\\u043e \\u0432\\u0440\\u0435\\u043c\\u0435\\u043d\\u0438. \\u041f\\u043e\\u043b\\u0443\\u0447\\u0430\\u0435\\u0442\\u0441\\u044f \\u0445\\u0430\\u0431\\u0440\\u0443 \\u0431\\u043e\\u043b\\u0435\\u0435 7,5 \\u043b\\u0435\\u0442 =).\\n        </div>',\n",
       "     u'replies': [],\n",
       "     u'time': u'10 \\u0444\\u0435\\u0432\\u0440\\u0430\\u043b\\u044f 2014 \\u0432 17:50',\n",
       "     u'username': u'cdkrot',\n",
       "     u'votes': 0},\n",
       "    {u'banned': False,\n",
       "     u'link': u'#comment_7349405',\n",
       "     u'message_html': u'<div class=\"message html_format \">\\n            \\u041e\\u043d\\u0438 \\u0435\\u0449\\u0435 \\u0442\\u043e\\u0433\\u0434\\u0430 \\u043d\\u0435 \\u0437\\u043d\\u0430\\u043b\\u0438, \\u0447\\u0442\\u043e \\u0432 \\u0420\\u043e\\u0441\\u0441\\u0438\\u0438 \\u0431\\u0443\\u0434\\u0435\\u0442 \\u041e\\u043b\\u0438\\u043c\\u043f\\u0438\\u0430\\u0434\\u0430 :-) \\n        </div>',\n",
       "     u'replies': [],\n",
       "     u'time': u'25 \\u0444\\u0435\\u0432\\u0440\\u0430\\u043b\\u044f 2014 \\u0432 11:37',\n",
       "     u'username': u'Zelebober',\n",
       "     u'votes': 0}],\n",
       "   u'time': u'20 \\u044f\\u043d\\u0432\\u0430\\u0440\\u044f 2014 \\u0432 17:59',\n",
       "   u'username': u'crwin',\n",
       "   u'votes': 0},\n",
       "  {u'banned': False,\n",
       "   u'link': u'#comment_7424009',\n",
       "   u'message_html': u'<div class=\"message html_format \">\\n            \\u041d\\u0443 \\u0447\\u0442\\u043e \\u0436\\u0435, \\u0431\\u0443\\u0434\\u0443 \\u0435\\u0449\\u0451 1 \\u0430\\u0440\\u0445\\u0435\\u043e\\u043b\\u0433\\u043e\\u043c ;)\\n        </div>',\n",
       "   u'replies': [],\n",
       "   u'time': u'21 \\u043c\\u0430\\u0440\\u0442\\u0430 2014 \\u0432 16:39',\n",
       "   u'username': u'I3Lack_CaT',\n",
       "   u'votes': 0},\n",
       "  {u'banned': False,\n",
       "   u'link': u'#comment_8036687',\n",
       "   u'message_html': u'<div class=\"message html_format \">\\n            \\u0422\\u0451\\u043f\\u043b\\u044b\\u0439, \\u043b\\u0430\\u043c\\u043f\\u043e\\u0432\\u044b\\u0439 \\u0445\\u0430\\u0431\\u0440 :)\\n        </div>',\n",
       "   u'replies': [],\n",
       "   u'time': u' 5 \\u043e\\u043a\\u0442\\u044f\\u0431\\u0440\\u044f 2014 \\u0432 21:39',\n",
       "   u'username': u'bohdan4ik',\n",
       "   u'votes': 0},\n",
       "  {u'banned': False,\n",
       "   u'link': u'#comment_8224509',\n",
       "   u'message_html': u'<div class=\"message html_format \">\\n            \\u0448\\u0451\\u043b 2015 \\u0433\\u043e\\u0434\\u2026\\n        </div>',\n",
       "   u'replies': [],\n",
       "   u'time': u'15 \\u044f\\u043d\\u0432\\u0430\\u0440\\u044f 2015 \\u0432 17:31',\n",
       "   u'username': u'Umed',\n",
       "   u'votes': 0}],\n",
       " u'comments_count': u'41',\n",
       " u'content_html': u'<div class=\"content html_format\">\\n    \\t\\u041f\\u0440\\u0438\\u0432\\u0435\\u0442!<br>\\r\\n<br>\\r\\n\\u0414\\u043b\\u044f \\u0441\\u0431\\u043e\\u0440\\u043d\\u0438\\u043a\\u0430 \\u043e\\u0442\\u0432\\u0435\\u0442\\u043e\\u0432 \\u043d\\u0430 \\u0427\\u0430\\u0441\\u0442\\u043e \\u0417\\u0430\\u0434\\u0430\\u0432\\u0430\\u0435\\u043c\\u044b\\u0435 \\u0412\\u043e\\u043f\\u0440\\u043e\\u0441\\u044b \\u043c\\u044b \\u0440\\u0435\\u0448\\u0438\\u043b\\u0438 \\u0438\\u0441\\u043f\\u043e\\u043b\\u044c\\u0437\\u043e\\u0432\\u0430\\u0442\\u044c \\u0438\\u0434\\u0435\\u044e wiki, \\u043f\\u043e\\u0441\\u043a\\u043e\\u043b\\u044c\\u043a\\u0443, \\u043a\\u0430\\u043a \\u043d\\u0430\\u043c \\u043a\\u0430\\u0436\\u0435\\u0442\\u0441\\u044f, \\u043d\\u0435\\u0442 \\u0441\\u043c\\u044b\\u0441\\u043b\\u0430 \\u043f\\u0438\\u0441\\u0430\\u0442\\u044c \\u043e\\u0434\\u043d\\u043e\\u043c\\u0443 \\u043a\\u043e\\u043d\\u043a\\u0440\\u0435\\u0442\\u043d\\u043e\\u043c\\u0443 \\u0447\\u0435\\u043b\\u043e\\u0432\\u0435\\u043a\\u0443 FAQ \\u0434\\u043b\\u044f \\u0442\\u0430\\u043a\\u043e\\u0433\\u043e \\u0441\\u0430\\u0439\\u0442\\u0430, \\u043a\\u0430\\u043a \\u0425\\u0430\\u0431\\u0440\\u0430\\u0445\\u0430\\u0431\\u0440. \\u0412\\u0441\\u0435 \\u0440\\u0430\\u0432\\u043d\\u043e \\u043e\\u0441\\u0442\\u0430\\u043d\\u0443\\u0442\\u0441\\u044f \\u043b\\u044e\\u0434\\u0438, \\u0443 \\u043a\\u043e\\u0442\\u043e\\u0440\\u044b\\u0445 \\u043e\\u0441\\u0442\\u0430\\u043d\\u0443\\u0442\\u0441\\u044f \\u0432\\u043e\\u043f\\u0440\\u043e\\u0441\\u044b.<br>\\r\\n\\u041f\\u043e\\u0441\\u0435\\u043c\\u0443, \\u043e\\u0431\\u0440\\u0430\\u0449\\u0430\\u044e\\u0441\\u044c \\u043a \\u0447\\u0438\\u0442\\u0430\\u0442\\u0435\\u043b\\u044f\\u043c \\u0433\\u0440\\u0443\\u043f\\u043f\\u044b \\u0441\\u043e \\u0441\\u043b\\u0435\\u0434\\u0443\\u044e\\u0449\\u0438\\u043c \\u0432\\u043e\\u043f\\u0440\\u043e\\u0441\\u043e\\u043c: \\u043a\\u0430\\u043a\\u043e\\u0439 wiki-\\u0434\\u0432\\u0438\\u0436\\u043e\\u043a \\u0438\\u0437 \\u0434\\u043e\\u0441\\u0442\\u0443\\u043f\\u043d\\u044b\\u0445, \\u043f\\u043e-\\u0432\\u0430\\u0448\\u0435\\u043c\\u0443, \\u0438\\u0434\\u0435\\u0430\\u043b\\u044c\\u043d\\u043e \\u043f\\u043e\\u0434\\u0445\\u043e\\u0434\\u0438\\u0442 \\u0434\\u043b\\u044f \\u0441\\u043e\\u0441\\u0442\\u0430\\u0432\\u043b\\u0435\\u043d\\u0438\\u044f \\xab\\u043a\\u043e\\u043b\\u043b\\u0435\\u043a\\u0442\\u0438\\u0432\\u043d\\u043e\\u0433\\u043e\\xbb \\u0427\\u0410\\u0412\\u041e \\u043f\\u043e \\u0441\\u0430\\u0439\\u0442\\u0443?<br>\\r\\n \\n    \\t<div class=\"clear\"></div> \\t\\n  \\t</div>',\n",
       " u'favs_count': 7,\n",
       " u'hubs': [[u'\\u0425\\u0430\\u0431\\u0440\\u0430\\u0445\\u0430\\u0431\\u0440',\n",
       "   u'http://habrahabr.ru/hub/habr/']],\n",
       " u'pageviews': 10110,\n",
       " u'tags': [u'\\u0445\\u0430\\u0431\\u0440\\u0430\\u0445\\u0430\\u0431',\n",
       "  u'wiki',\n",
       "  u'FAQ',\n",
       "  u'\\u0427\\u0410\\u0412\\u041e',\n",
       "  u'\\u043c\\u0435\\u0445\\u0430\\u043d\\u0438\\u0437\\u043c',\n",
       "  u'\\u0434\\u0432\\u0438\\u0436\\u043e\\u043a'],\n",
       " u'title': u'Wiki-FAQ \\u0434\\u043b\\u044f \\u0425\\u0430\\u0431\\u0440\\u0430\\u0445\\u0430\\u0431\\u0440\\u0430'}"
      ]
     },
     "execution_count": 8,
     "metadata": {},
     "output_type": "execute_result"
    }
   ],
   "source": [
    "post"
   ]
  },
  {
   "cell_type": "code",
   "execution_count": 9,
   "metadata": {
    "collapsed": true
   },
   "outputs": [],
   "source": [
    "content_text = html2text.html2text(post['content_html'])\n",
    "tokens = nltk.tokenize.wordpunct_tokenize(content_text)"
   ]
  },
  {
   "cell_type": "code",
   "execution_count": 11,
   "metadata": {
    "collapsed": false
   },
   "outputs": [],
   "source": [
    "import pymorphy2\n",
    "morph = pymorphy2.MorphAnalyzer()"
   ]
  },
  {
   "cell_type": "code",
   "execution_count": 12,
   "metadata": {
    "collapsed": false
   },
   "outputs": [
    {
     "name": "stdout",
     "output_type": "stream",
     "text": [
      "CPU times: user 5 µs, sys: 2 µs, total: 7 µs\n",
      "Wall time: 10 µs\n"
     ]
    }
   ],
   "source": [
    "%%time\n",
    "\n",
    "def html_to_plain(html):\n",
    "    text = html2text.html2text(post['content_html'])\n",
    "\n",
    "def post_to_corpus_line(post_id, post, morph):\n",
    "    #post_id = post['id']\n",
    "    author = post['author']\n",
    "    tags = post['tags']\n",
    "\n",
    "    # 1. words\n",
    "    words = collections.Counter()\n",
    "    \n",
    "    soup = BeautifulSoup.BeautifulSoup(post['content_html'])\n",
    "    text_parts = soup.findAll(text=True)\n",
    "\n",
    "    content_text = ''.join(text_parts)\n",
    "    space_chars = u'«»“”’*…/_.\\\\'\n",
    "    for c in space_chars:\n",
    "        content_text = content_text.replace(c, ' ')\n",
    "    tokens = nltk.tokenize.wordpunct_tokenize(content_text)\n",
    "    tokens = nltk.word_tokenize(content_text)\n",
    "    for token in tokens:\n",
    "        if len(token) > 2:\n",
    "            token = token.lower().replace(u'ё', u'е')\n",
    "            word = morph.parse(token)[0].normal_form\n",
    "            if len(word) > 0:\n",
    "                words[word] += 1\n",
    "    \n",
    "    # 2. users\n",
    "    users = collections.Counter()\n",
    "    \n",
    "    def pass_comments(comments, users):\n",
    "        for comment in comments:\n",
    "            if not comment['banned'] and comment.get('username') is not None:\n",
    "                username = comment['username']\n",
    "                users[username] += 1\n",
    "            pass_comments(comment['replies'], users)\n",
    "    pass_comments(post['comments'], users)\n",
    "\n",
    "    # 3. hubs\n",
    "    \n",
    "    def parse_hub_id(hub_pair):\n",
    "        url_parts = filter(lambda s: len(s) > 0, urlparse.urlsplit(hub_pair[1]).path.split('/'))\n",
    "        if len(url_parts) >= 2:\n",
    "            hub_id = '_'.join(url_parts[-2:])\n",
    "            return hub_id\n",
    "        \n",
    "    hubs = []\n",
    "    for hub_pair in post['hubs']:\n",
    "        hub_id = parse_hub_id(hub_pair)\n",
    "        if hub_id:\n",
    "            hubs.append(hub_id)\n",
    "    \n",
    "    # construct bag-of-words\n",
    "    \n",
    "    def construct_bow(words):\n",
    "        return [\n",
    "            (\n",
    "                word.replace(' ', '_').replace(':', '_').replace('|', '_').replace('\\t', '_') + \n",
    "                ('' if cnt == 1 else ':%g' % cnt)\n",
    "            )\n",
    "            for word, cnt in words.iteritems()\n",
    "        ]\n",
    "    \n",
    "    parts = (\n",
    "        ['\\'%d' % post_id] + \n",
    "        ['|@words'] + construct_bow(words) +\n",
    "        ['|@author'] + construct_bow({author: 1} if author is not None else {}) +\n",
    "        ['|@users'] + construct_bow(users) + \n",
    "        ['|@tags'] + construct_bow({tag: 1 for tag in tags}) +\n",
    "        ['|@hubs'] + construct_bow({hub_id: 1 for hub_id in hubs})\n",
    "    )\n",
    "    return ' '.join(parts)\n",
    "    "
   ]
  },
  {
   "cell_type": "code",
   "execution_count": 14,
   "metadata": {
    "collapsed": false
   },
   "outputs": [
    {
     "name": "stdout",
     "output_type": "stream",
     "text": [
      "'1 |@words wiki вопрос:3 поскольку нет конкретный один задавать который составление кажется по-вашему часто сборник равно писать посему такой ответ обращаться привет доступный хабрахабра подходить faq какой wiki-движок коллективный решить смысл остаться:2 идеально как:2 человек:2 сайт:2 группа следующий использовать читатель весь идея что для:3 мы |@author deniskin |@users BeLove:2 Vilgelm ubunterro bohdan4ik I3Lack_CaT STFBEE Umed arren shus rasa Oriand minaton TechnologyMasta kukutz khekkly gameboyhippo:2 lukaville:3 Zelebober crwin geraxe:3 deniskin:4 vyacheslav_ka unStaiL Kuuuzya:2 Zoberg dasty danpetruk terrance cdkrot BrownTrigger |@tags wiki механизм движок FAQ ЧАВО хабрахаб |@hubs hub_habr\n"
     ]
    }
   ],
   "source": [
    "post_id = 1\n",
    "print post_to_corpus_line(post_id, load_post(post_id), morph)"
   ]
  },
  {
   "cell_type": "code",
   "execution_count": null,
   "metadata": {
    "collapsed": true
   },
   "outputs": [],
   "source": [
    "for i, post_id in enumerate(post_ids):\n",
    "    line = post_to_corpus_line(post_id, load_post(post_id), morph)\n",
    "    with open('habr_text/' + str(post_id), 'w') as fout:\n",
    "        fout.write(line.encode('utf8'))\n",
    "        \n",
    "with open('habrahabr_corpus_multimodal.txt', 'w') as fout:\n",
    "    for post_id in post_ids:\n",
    "        line = post_to_corpus_line(post_id, load_post(post_id), morph)\n",
    "        fout.write(line.encode('utf8') + '\\n')"
   ]
  },
  {
   "cell_type": "markdown",
   "metadata": {},
   "source": [
    "### 2. Строим тематическую модель"
   ]
  },
  {
   "cell_type": "markdown",
   "metadata": {},
   "source": [
    "Прежде всего необходимо подготовить входные данные. BigARTM имеет собственный формат документов для обработки, называемый батчами. В библиотеке присутствуют средства по созданию батчей из файлов в форматах Bag-Of-Words UCI и Vowpal Wabbit (подробности можно найти в http://docs.bigartm.org/en/latest/formats.html)."
   ]
  },
  {
   "cell_type": "code",
   "execution_count": null,
   "metadata": {
    "collapsed": true
   },
   "outputs": [],
   "source": [
    "import os\n",
    "import artm\n",
    "import glob\n",
    "\n",
    "\n",
    "os.environ['ARTM_SHARED_LIBRARY'] = \"/Users/yanina-n/study/diplom/bigartm/build/src/artm/libartm.dylib\"\n",
    "\n",
    "\n",
    "BATCHES_FOLDER = '../habrahabr-dataset-master/pydata_batches'\n",
    "HABR_DATA_PATH = '../habrahabr-dataset-master/habrahabr_corpus_multimodal.txt'\n",
    "DICT_PATH = BATCHES_FOLDER + '/dictionary.dict'"
   ]
  },
  {
   "cell_type": "markdown",
   "metadata": {},
   "source": [
    "В Python API, по аналогии с алгоритмами из scikit-learn, входные данные представлены одним классом BatchVectorizer. Объект этого класса принимает на вход батчи или файлы UCI / VW и подаётся на вход всем методам. В случае, если входные данные не являются батчами, он создаёт их и сохраняет на диск для последующего быстрого использования.\n"
   ]
  },
  {
   "cell_type": "code",
   "execution_count": null,
   "metadata": {
    "collapsed": false
   },
   "outputs": [],
   "source": [
    "batch_vectorizer = artm.BatchVectorizer(data_path=HABR_DATA_PATH, data_format='vowpal_wabbit', collection_name='habr', target_folder=BATCHES_FOLDER)"
   ]
  },
  {
   "cell_type": "code",
   "execution_count": null,
   "metadata": {
    "collapsed": false
   },
   "outputs": [],
   "source": [
    "batch_vectorizer = None\n",
    "if len(glob.glob(os.path.join(BATCHES_FOLDER, '*.batch'))) < 1:\n",
    "    batch_vectorizer = artm.BatchVectorizer(data_path=HABR_DATA_PATH, data_format='vowpal_wabbit', collection_name='habr', target_folder=BATCHES_FOLDER)\n",
    "else:\n",
    "    batch_vectorizer = artm.BatchVectorizer(data_path=HABR_DATA_PATH, data_format='vowpal_wabbit')"
   ]
  },
  {
   "cell_type": "code",
   "execution_count": null,
   "metadata": {
    "collapsed": false
   },
   "outputs": [],
   "source": [
    "dictionary = artm.Dictionary()\n",
    "\n",
    "model_plsa = artm.ARTM(topic_names=['topic_{}'.format(i) for i in xrange(200)],\n",
    "                       scores=[artm.PerplexityScore(name='PerplexityScore',\n",
    "                                                    use_unigram_document_model=False,\n",
    "                                                    dictionary=dictionary)],\n",
    "                       cache_theta=True)\n",
    "\n",
    "model_artm = artm.ARTM(topic_names=['topic_{}'.format(i) for i in xrange(200)],\n",
    "                       scores=[artm.PerplexityScore(name='PerplexityScore',\n",
    "                                                    use_unigram_document_model=False,\n",
    "                                                    dictionary=dictionary)],\n",
    "                       regularizers=[artm.SmoothSparseThetaRegularizer(name='SparseTheta', tau=-0.15),\n",
    "                                     artm.SmoothSparsePhiRegularizer(name='SparsePhi', tau=-0.1)],\n",
    "                       cache_theta=True)"
   ]
  },
  {
   "cell_type": "code",
   "execution_count": null,
   "metadata": {
    "collapsed": true
   },
   "outputs": [],
   "source": [
    "model_artm.regularizers.add(artm.DecorrelatorPhiRegularizer(name='DecorrelatorPhi', tau=1.5e+5))"
   ]
  },
  {
   "cell_type": "code",
   "execution_count": null,
   "metadata": {
    "collapsed": true
   },
   "outputs": [],
   "source": [
    "model_artm.scores.add(artm.SparsityPhiScore(name='SparsityPhiScore'))\n",
    "model_artm.scores.add(artm.SparsityThetaScore(name='SparsityThetaScore'))\n",
    "model_artm.scores.add(artm.TopicKernelScore(name='TopicKernelScore', probability_mass_threshold=0.3))"
   ]
  },
  {
   "cell_type": "markdown",
   "metadata": {},
   "source": [
    "Следующий шаг — инициализация моделей. Сделаем это по словарю, что означает, что\n",
    "- будет создана матрица $\\Phi$ с именем 'pwt', число строк и столбцов в ней будет взято исходя из числа слов в словаре и заданного в модели числа тем;\n",
    "- эта матрица будет заполнена случайными значениями из диапазона (0, 1) и нормализована.\n",
    "\n",
    "Надо отметить, что этот шаг является опциональным, поскольку модель может быть автоматически инициализирована во время вызовов fit_offline() / fit_online().\n",
    "\n",
    "Словарь – это объект BigARTM, содержащий информацию о коллекции (словарь коллекции, различные величины и счётчики, связанные со словами). Создать словарь можно на основе папки с батчами. Затем собранный словарь можно сохранять на диск и позже подгрузить вновь."
   ]
  },
  {
   "cell_type": "code",
   "execution_count": null,
   "metadata": {
    "collapsed": false
   },
   "outputs": [],
   "source": [
    "if not os.path.isfile(DICT_PATH):\n",
    "    dictionary.gather(data_path=batch_vectorizer.data_path)\n",
    "    dictionary.save(dictionary_path=DICT_PATH)\n",
    "\n",
    "dictionary.load(dictionary_path=DICT_PATH)"
   ]
  },
  {
   "cell_type": "code",
   "execution_count": null,
   "metadata": {
    "collapsed": true
   },
   "outputs": [],
   "source": [
    "model_plsa.initialize(dictionary=dictionary)\n",
    "model_artm.initialize(dictionary=dictionary)"
   ]
  },
  {
   "cell_type": "markdown",
   "metadata": {},
   "source": [
    "Теперь попробуем обучить модели в оффлайн-режиме (т.е. обновляя Фи раз за проход по коллекции). Инициируем пятнадцать проходов:\n"
   ]
  },
  {
   "cell_type": "code",
   "execution_count": null,
   "metadata": {
    "collapsed": true
   },
   "outputs": [],
   "source": [
    "model_plsa.num_document_passes = 1\n",
    "model_artm.num_document_passes = 1\n",
    "\n",
    "model_plsa.fit_offline(batch_vectorizer=batch_vectorizer, num_collection_passes=15)\n",
    "model_artm.fit_offline(batch_vectorizer=batch_vectorizer, num_collection_passes=15)"
   ]
  },
  {
   "cell_type": "code",
   "execution_count": null,
   "metadata": {
    "collapsed": true
   },
   "outputs": [],
   "source": [
    "plt.plot(xrange(model_plsa.num_phi_updates), model_plsa.score_tracker['SparsityPhiScore'].value, 'b--',\n",
    "                 xrange(model_artm.num_phi_updates), model_artm.score_tracker['SparsityPhiScore'].value, 'r--', linewidth=2)\n",
    "plt.xlabel('Iterations count')\n",
    "plt.ylabel('PLSA Phi sp. (blue), ARTM Phi sp. (red)')\n",
    "plt.grid(True)\n",
    "plt.show()\n",
    "\n",
    "plt.plot(xrange(model_plsa.num_phi_updates), model_plsa.score_tracker['SparsityThetaScore'].value, 'b--',\n",
    "                 xrange(model_artm.num_phi_updates), model_artm.score_tracker['SparsityThetaScore'].value, 'r--', linewidth=2)\n",
    "plt.xlabel('Iterations count')\n",
    "plt.ylabel('PLSA Theta sp. (blue), ARTM Theta sp. (red)')\n",
    "plt.grid(True)\n",
    "plt.show()"
   ]
  },
  {
   "cell_type": "markdown",
   "metadata": {},
   "source": [
    "<img src=\"pics/comp.png\">"
   ]
  },
  {
   "cell_type": "code",
   "execution_count": null,
   "metadata": {
    "collapsed": true
   },
   "outputs": [],
   "source": [
    "def print_measures(model_plsa, model_artm):\n",
    "    print 'Sparsity Phi: {0:.3f} (PLSA) vs. {1:.3f} (ARTM)'.format(\n",
    "        model_plsa.score_tracker['SparsityPhiScore'].last_value,\n",
    "        model_artm.score_tracker['SparsityPhiScore'].last_value)\n",
    "\n",
    "    print 'Sparsity Theta: {0:.3f} (PLSA) vs. {1:.3f} (ARTM)'.format(\n",
    "        model_plsa.score_tracker['SparsityThetaScore'].last_value,\n",
    "        model_artm.score_tracker['SparsityThetaScore'].last_value)\n",
    "\n",
    "    print 'Kernel contrast: {0:.3f} (PLSA) vs. {1:.3f} (ARTM)'.format(\n",
    "        model_plsa.score_tracker['TopicKernelScore'].last_average_contrast,\n",
    "        model_artm.score_tracker['TopicKernelScore'].last_average_contrast)\n",
    "\n",
    "    print 'Kernel purity: {0:.3f} (PLSA) vs. {1:.3f} (ARTM)'.format(\n",
    "        model_plsa.score_tracker['TopicKernelScore'].last_average_purity,\n",
    "        model_artm.score_tracker['TopicKernelScore'].last_average_purity)\n",
    "\n",
    "    print 'Perplexity: {0:.3f} (PLSA) vs. {1:.3f} (ARTM)'.format(\n",
    "        model_plsa.score_tracker['PerplexityScore'].last_value,\n",
    "        model_artm.score_tracker['PerplexityScore'].last_value)\n",
    "\n",
    "    plt.plot(xrange(model_plsa.num_phi_updates), model_plsa.score_tracker['PerplexityScore'].value, 'b--',\n",
    "             xrange(model_artm.num_phi_updates), model_artm.score_tracker['PerplexityScore'].value, 'r--', linewidth=2)\n",
    "    plt.xlabel('Iterations count')\n",
    "    plt.ylabel('PLSA perp. (blue), ARTM perp. (red)')\n",
    "    plt.grid(True)\n",
    "    plt.show()\n",
    "    \n",
    "print_measures(model_plsa, model_artm)"
   ]
  },
  {
   "cell_type": "markdown",
   "metadata": {},
   "source": [
    "### 3. Разведочный поиск"
   ]
  },
  {
   "cell_type": "code",
   "execution_count": null,
   "metadata": {
    "collapsed": true
   },
   "outputs": [],
   "source": [
    "import copy\n",
    "\n",
    "thetas = pandas.read_csv('../habrahabr-dataset-master/theta_matrix.csv', sep=' ').set_index('id')\n",
    "articles = copy.deepcopy(thetas)\n",
    "thetas = thetas[[col for col in thetas.columns if col.startswith('objective')]]\n",
    "\n",
    "relevant_pages = [\n",
    "    'geektimes/14',\n",
    "    'habrahabr/65',\n",
    "]\n",
    "\n",
    "thetas.ix[relevant_pages, :]"
   ]
  },
  {
   "cell_type": "code",
   "execution_count": 15,
   "metadata": {
    "collapsed": false
   },
   "outputs": [
    {
     "name": "stdout",
     "output_type": "stream",
     "text": [
      "/Users/yanina-n/study/diplom/shad_backup_romovpa\r\n"
     ]
    }
   ],
   "source": [
    "import numpy as np\n",
    "\n",
    "def what_to_watch_next(relevant_pages, irrelevant_pages, observed_confidence=10000, top_size=30, penalty=1):\n",
    "    y = -np.ones(thetas.shape[0])\n",
    "    c = np.ones(thetas.shape[0])\n",
    "\n",
    "    for post_id in relevant_pages:\n",
    "        sel = thetas.index == post_id\n",
    "        y[sel] = +1\n",
    "        c[sel] = observed_confidence\n",
    "        \n",
    "    for post_id in irrelevant_pages:\n",
    "        sel = thetas.index == post_id\n",
    "        y[sel] = -1\n",
    "        c[sel] = observed_confidence\n",
    "\n",
    "    y_pred = Ridge(alpha=penalty).fit(thetas.values, y, sample_weight=c).predict(thetas.values)\n",
    "    order = np.argsort(-y_pred)\n",
    "    \n",
    "    return list(thetas.index[order[:top_size]])"
   ]
  },
  {
   "cell_type": "markdown",
   "metadata": {},
   "source": [
    "##### Просмотр заголовков статей"
   ]
  },
  {
   "cell_type": "code",
   "execution_count": null,
   "metadata": {
    "collapsed": true
   },
   "outputs": [],
   "source": [
    "import pymongo\n",
    "\n",
    "client = pymongo.MongoClient()\n",
    "tmblogs = client['tmblogs']\n",
    "posts = tmblogs['posts']"
   ]
  },
  {
   "cell_type": "code",
   "execution_count": null,
   "metadata": {
    "collapsed": true
   },
   "outputs": [],
   "source": [
    "def show_posts(post_indices):\n",
    "    '''from IPython.display import HTML\n",
    "    html = '<ol>'\n",
    "    for post_id in post_indices:\n",
    "        post = tmblogs['posts'].find_one(post_id)\n",
    "        html += u'<li><tt>{_id}</tt> <a href=\"{url}\">{title}</a></li>'.format(**post)\n",
    "    html += '</ol>'\n",
    "    return HTML(''.join(html))   ''' \n",
    "    \n",
    "    for post in post_indices:\n",
    "        print post, articles.ix[post]['title']"
   ]
  },
  {
   "cell_type": "markdown",
   "metadata": {},
   "source": [
    "##### Пример итераций поиска"
   ]
  },
  {
   "cell_type": "markdown",
   "metadata": {},
   "source": [
    "Нашли вручную одну статью"
   ]
  },
  {
   "cell_type": "code",
   "execution_count": null,
   "metadata": {
    "collapsed": true
   },
   "outputs": [],
   "source": [
    "relevant_pages = [\n",
    "    'habrahabr/58',\n",
    "]"
   ]
  },
  {
   "cell_type": "markdown",
   "metadata": {},
   "source": [
    "Составили список похожих статей"
   ]
  },
  {
   "cell_type": "code",
   "execution_count": null,
   "metadata": {
    "collapsed": true
   },
   "outputs": [],
   "source": [
    "next_pages = what_to_watch_next(relevant_pages, [], observed_confidence=10000)"
   ]
  },
  {
   "cell_type": "code",
   "execution_count": null,
   "metadata": {
    "collapsed": true
   },
   "outputs": [],
   "source": [
    "show_posts(next_pages)"
   ]
  },
  {
   "cell_type": "markdown",
   "metadata": {},
   "source": [
    "<img src=\"pics/titles1.png\">"
   ]
  },
  {
   "cell_type": "markdown",
   "metadata": {},
   "source": [
    "Помечаем найденные статьи как релевантные/нерелевантные:"
   ]
  },
  {
   "cell_type": "code",
   "execution_count": null,
   "metadata": {
    "collapsed": true
   },
   "outputs": [],
   "source": [
    "irrelevant_pages = [\n",
    "    'geektimes/7274',\n",
    "    'megamozg/4956',\n",
    "    'megamozg/2026',\n",
    "    'geektimes/6643',\n",
    "    'megamozg/1140',\n",
    "    'geektimes/6082',\n",
    "    'geektimes/1843',\n",
    "    \n",
    "    \n",
    "]\n",
    "\n",
    "relevant_pages += [\n",
    "    'megamozg/4840', \n",
    "    'geektimes/6118',\n",
    "    'geektimes/3983',\n",
    "    'geektimes/6643',\n",
    "    'megamozg/4840'\n",
    "]"
   ]
  },
  {
   "cell_type": "markdown",
   "metadata": {},
   "source": [
    "Обновляем поисковую выдачу"
   ]
  },
  {
   "cell_type": "code",
   "execution_count": null,
   "metadata": {
    "collapsed": true
   },
   "outputs": [],
   "source": [
    "%%time\n",
    "next_pages = what_to_watch_next(relevant_pages, irrelevant_pages, observed_confidence=10000, penalty=1)"
   ]
  },
  {
   "cell_type": "code",
   "execution_count": null,
   "metadata": {
    "collapsed": true
   },
   "outputs": [],
   "source": [
    "show_posts(next_pages)"
   ]
  },
  {
   "cell_type": "markdown",
   "metadata": {},
   "source": [
    "<img src=\"pics/titles2.png\">"
   ]
  },
  {
   "cell_type": "markdown",
   "metadata": {},
   "source": [
    "И так несколько итераций..."
   ]
  },
  {
   "cell_type": "code",
   "execution_count": null,
   "metadata": {
    "collapsed": true
   },
   "outputs": [],
   "source": []
  }
 ],
 "metadata": {
  "kernelspec": {
   "display_name": "Python 2",
   "language": "python",
   "name": "python2"
  },
  "language_info": {
   "codemirror_mode": {
    "name": "ipython",
    "version": 2
   },
   "file_extension": ".py",
   "mimetype": "text/x-python",
   "name": "python",
   "nbconvert_exporter": "python",
   "pygments_lexer": "ipython2",
   "version": "2.7.10"
  }
 },
 "nbformat": 4,
 "nbformat_minor": 0
}
